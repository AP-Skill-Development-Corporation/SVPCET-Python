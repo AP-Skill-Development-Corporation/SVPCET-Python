{
 "cells": [
  {
   "cell_type": "code",
   "execution_count": 3,
   "id": "1e01e270",
   "metadata": {},
   "outputs": [
    {
     "name": "stdout",
     "output_type": "stream",
     "text": [
      "123456\n",
      "Even numbers are:  2 4 6 \n",
      "Odd numbers are:  1 3 5 "
     ]
    }
   ],
   "source": [
    "n = int(input())\n",
    "elist,olist = [],[]\n",
    "while n!=0:\n",
    "    h = n%10\n",
    "    if h%2==0:\n",
    "        elist.append(h)\n",
    "    else:\n",
    "        olist.append(h)\n",
    "    n = n//10\n",
    "print(\"Even numbers are: \",end=\" \")\n",
    "for j in range(len(elist)-1,-1,-1):\n",
    "    print(elist[j],end=\" \")\n",
    "print(\"\\nOdd numbers are: \",end=\" \")\n",
    "for j in range(len(olist)-1,-1,-1):\n",
    "    print(olist[j],end=\" \")"
   ]
  },
  {
   "cell_type": "code",
   "execution_count": 4,
   "id": "37447b20",
   "metadata": {},
   "outputs": [
    {
     "name": "stdout",
     "output_type": "stream",
     "text": [
      "['__add__', '__class__', '__contains__', '__delattr__', '__dir__', '__doc__', '__eq__', '__format__', '__ge__', '__getattribute__', '__getitem__', '__getnewargs__', '__gt__', '__hash__', '__init__', '__init_subclass__', '__iter__', '__le__', '__len__', '__lt__', '__mod__', '__mul__', '__ne__', '__new__', '__reduce__', '__reduce_ex__', '__repr__', '__rmod__', '__rmul__', '__setattr__', '__sizeof__', '__str__', '__subclasshook__', 'capitalize', 'casefold', 'center', 'count', 'encode', 'endswith', 'expandtabs', 'find', 'format', 'format_map', 'index', 'isalnum', 'isalpha', 'isascii', 'isdecimal', 'isdigit', 'isidentifier', 'islower', 'isnumeric', 'isprintable', 'isspace', 'istitle', 'isupper', 'join', 'ljust', 'lower', 'lstrip', 'maketrans', 'partition', 'replace', 'rfind', 'rindex', 'rjust', 'rpartition', 'rsplit', 'rstrip', 'split', 'splitlines', 'startswith', 'strip', 'swapcase', 'title', 'translate', 'upper', 'zfill']\n"
     ]
    }
   ],
   "source": [
    "h = \"Ramu\"\n",
    "print(dir(h))"
   ]
  },
  {
   "cell_type": "code",
   "execution_count": 5,
   "id": "902bdbc8",
   "metadata": {},
   "outputs": [
    {
     "name": "stdout",
     "output_type": "stream",
     "text": [
      "False\n",
      "False\n"
     ]
    }
   ],
   "source": [
    "n = \"this is sample\"\n",
    "print(n.endswith('y'))\n",
    "print(n.startswith('i'))"
   ]
  },
  {
   "cell_type": "code",
   "execution_count": 9,
   "id": "4e9cc23f",
   "metadata": {},
   "outputs": [
    {
     "name": "stdout",
     "output_type": "stream",
     "text": [
      "this is sample\n",
      "     sdhdsj jds                                   \n",
      "                          asdasda       \n",
      "                  this is sample                  \n"
     ]
    }
   ],
   "source": [
    "print(n)\n",
    "j = \"     sdhdsj jds \"\n",
    "k = \"   asdasda       \"\n",
    "print(j.ljust(50))\n",
    "print(k.rjust(40))\n",
    "print(n.center(50))"
   ]
  },
  {
   "cell_type": "code",
   "execution_count": 10,
   "id": "d124a874",
   "metadata": {},
   "outputs": [
    {
     "name": "stdout",
     "output_type": "stream",
     "text": [
      "     sdhdsj jds \n",
      "   asdasda       \n",
      "sdhdsj jds\n",
      "   asdasda\n",
      "sdhdsj jds \n",
      "['asdasda']\n",
      "['sdhdsj', 'jds']\n"
     ]
    }
   ],
   "source": [
    "print(j)\n",
    "print(k)\n",
    "print(j.strip())\n",
    "print(k.rstrip())\n",
    "print(j.lstrip())\n",
    "print(k.rsplit())\n",
    "print(j.split())"
   ]
  },
  {
   "cell_type": "code",
   "execution_count": 13,
   "id": "e42c335e",
   "metadata": {},
   "outputs": [
    {
     "name": "stdout",
     "output_type": "stream",
     "text": [
      "a-a-d- -a-f- -a-d-f- -s-d-f\n"
     ]
    }
   ],
   "source": [
    "u = \"aad af adf sdf\"\n",
    "print(\"-\".join(u))"
   ]
  },
  {
   "cell_type": "code",
   "execution_count": 16,
   "id": "14e24103",
   "metadata": {},
   "outputs": [
    {
     "name": "stdout",
     "output_type": "stream",
     "text": [
      "13@dfjvnkjvh sfd hkhfv\n",
      "13@dfjvnkjvh@sfd@hkhfv\n"
     ]
    }
   ],
   "source": [
    "n = input().split('@')\n",
    "l = \"@\".join(n)\n",
    "print(l)"
   ]
  },
  {
   "cell_type": "code",
   "execution_count": null,
   "id": "5479c7cf",
   "metadata": {},
   "outputs": [],
   "source": [
    "[gmail.com,yahoo.in]"
   ]
  },
  {
   "cell_type": "markdown",
   "id": "8c3c2ad4",
   "metadata": {},
   "source": [
    "### Task-1\n",
    "\n",
    "```\n",
    "g = \"jchskzhfv!@^16eSASDHS\"\n",
    "\n",
    "Output:\n",
    "    Small Cases are: j c h s k \n",
    "    Capital Cases are: S A S D H S\n",
    "    Numbers are:1 6\n",
    "    Special Characters are: ! @ ^\n",
    "```"
   ]
  },
  {
   "cell_type": "markdown",
   "id": "6e9d7d39",
   "metadata": {},
   "source": [
    "### Sets:\n",
    "    - It removes duplicate data from a set"
   ]
  },
  {
   "cell_type": "code",
   "execution_count": 19,
   "id": "9504081c",
   "metadata": {},
   "outputs": [
    {
     "name": "stdout",
     "output_type": "stream",
     "text": [
      "{1, 2, 3, 4, 5, 7, 'raju', '4', 56} <class 'set'>\n"
     ]
    }
   ],
   "source": [
    "d = {2,4,56,7,2,3,1,4,5,5,'4','raju'}\n",
    "print(d,type(d))"
   ]
  },
  {
   "cell_type": "code",
   "execution_count": 20,
   "id": "9be2c2c0",
   "metadata": {},
   "outputs": [
    {
     "name": "stdout",
     "output_type": "stream",
     "text": [
      "{1, 2, 3, 4, 5, 7, 'raju', '4', 56}\n"
     ]
    },
    {
     "data": {
      "text/plain": [
       "{1, 2, 3, 4, '4', 5, 56, 7, 'raju'}"
      ]
     },
     "execution_count": 20,
     "metadata": {},
     "output_type": "execute_result"
    }
   ],
   "source": [
    "print(d)\n",
    "d"
   ]
  },
  {
   "cell_type": "code",
   "execution_count": 21,
   "id": "85c1a3c9",
   "metadata": {},
   "outputs": [
    {
     "name": "stdout",
     "output_type": "stream",
     "text": [
      "['__and__', '__class__', '__contains__', '__delattr__', '__dir__', '__doc__', '__eq__', '__format__', '__ge__', '__getattribute__', '__gt__', '__hash__', '__iand__', '__init__', '__init_subclass__', '__ior__', '__isub__', '__iter__', '__ixor__', '__le__', '__len__', '__lt__', '__ne__', '__new__', '__or__', '__rand__', '__reduce__', '__reduce_ex__', '__repr__', '__ror__', '__rsub__', '__rxor__', '__setattr__', '__sizeof__', '__str__', '__sub__', '__subclasshook__', '__xor__', 'add', 'clear', 'copy', 'difference', 'difference_update', 'discard', 'intersection', 'intersection_update', 'isdisjoint', 'issubset', 'issuperset', 'pop', 'remove', 'symmetric_difference', 'symmetric_difference_update', 'union', 'update']\n"
     ]
    }
   ],
   "source": [
    "print(dir(d))"
   ]
  },
  {
   "cell_type": "code",
   "execution_count": 25,
   "id": "7e9398f2",
   "metadata": {},
   "outputs": [
    {
     "name": "stdout",
     "output_type": "stream",
     "text": [
      "{0, 2, 3, 4, 7, 8, 9}\n",
      "{8, 9, 3, 4}\n"
     ]
    }
   ],
   "source": [
    "y = {3,4,7,8,9}\n",
    "j = {8,9,0,2,3,4}\n",
    "print(j.union(y))\n",
    "print(j.intersection(y))"
   ]
  },
  {
   "cell_type": "code",
   "execution_count": 26,
   "id": "d6f1ecd7",
   "metadata": {},
   "outputs": [
    {
     "name": "stdout",
     "output_type": "stream",
     "text": [
      "{0, 2, 3, 4, 8, 9}\n",
      "{3, 4, 7, 8, 9}\n",
      "{8, 9, 3, 4}\n",
      "{3, 4, 7, 8, 9}\n"
     ]
    }
   ],
   "source": [
    "print(j)\n",
    "print(y)\n",
    "j.intersection_update(y)\n",
    "print(j)\n",
    "print(y)"
   ]
  },
  {
   "cell_type": "code",
   "execution_count": 32,
   "id": "a48c438e",
   "metadata": {},
   "outputs": [
    {
     "name": "stdout",
     "output_type": "stream",
     "text": [
      "{3, 4, 5, 7, 8, 90}\n",
      "{1, 3, 6, 7, 8, 9, 45}\n",
      "{1, 45, 6, 9}\n",
      "{1, 6, 9, 45}\n",
      "{1, 45, 6, 9}\n",
      "{3, 4, 5, 7, 8, 90}\n"
     ]
    }
   ],
   "source": [
    "b = {7,8,90,3,4,5}\n",
    "c = {6,7,8,9,3,45,1}\n",
    "print(b)\n",
    "print(c)\n",
    "g = c.difference(b)\n",
    "# print(b)\n",
    "# print(c)\n",
    "print(g)\n",
    "c.difference_update(b)\n",
    "print(c)\n",
    "print(g)\n",
    "print(b)"
   ]
  },
  {
   "cell_type": "code",
   "execution_count": 35,
   "id": "34066d21",
   "metadata": {},
   "outputs": [
    {
     "name": "stdout",
     "output_type": "stream",
     "text": [
      "{66, 3, 4, 5, 6}\n",
      "{3, 4, 6, 7, 9, 88}\n",
      "{66, 5, 7, 88, 9}\n",
      "{66, 3, 4, 5, 6}\n",
      "{3, 4, 6, 7, 9, 88}\n"
     ]
    }
   ],
   "source": [
    "y = {3,4,5,66,6}\n",
    "h = {4,6,7,88,9,3,4}\n",
    "print(y)\n",
    "print(h)\n",
    "print(y.symmetric_difference(h))\n",
    "print(y)\n",
    "print(h)"
   ]
  },
  {
   "cell_type": "code",
   "execution_count": 36,
   "id": "6b642937",
   "metadata": {},
   "outputs": [
    {
     "name": "stdout",
     "output_type": "stream",
     "text": [
      "{66, 3, 4, 5, 6}\n",
      "{66, 5, 7, 9, 88}\n",
      "{3, 4, 6, 7, 9, 88}\n"
     ]
    }
   ],
   "source": [
    "print(y)\n",
    "y.symmetric_difference_update(h)\n",
    "print(y)\n",
    "print(h)"
   ]
  },
  {
   "cell_type": "markdown",
   "id": "6675b664",
   "metadata": {},
   "source": [
    "### Dictionary:"
   ]
  },
  {
   "cell_type": "code",
   "execution_count": 37,
   "id": "78aa4288",
   "metadata": {},
   "outputs": [
    {
     "name": "stdout",
     "output_type": "stream",
     "text": [
      "{'name': 'raju', 'rollnumber': '23', 'sal': 23000}\n"
     ]
    }
   ],
   "source": [
    "t = {'name':'raju','rollnumber':'23','sal':23000}\n",
    "print(t)"
   ]
  },
  {
   "cell_type": "code",
   "execution_count": 38,
   "id": "09a3fff9",
   "metadata": {},
   "outputs": [
    {
     "name": "stdout",
     "output_type": "stream",
     "text": [
      "['__class__', '__contains__', '__delattr__', '__delitem__', '__dir__', '__doc__', '__eq__', '__format__', '__ge__', '__getattribute__', '__getitem__', '__gt__', '__hash__', '__init__', '__init_subclass__', '__iter__', '__le__', '__len__', '__lt__', '__ne__', '__new__', '__reduce__', '__reduce_ex__', '__repr__', '__setattr__', '__setitem__', '__sizeof__', '__str__', '__subclasshook__', 'clear', 'copy', 'fromkeys', 'get', 'items', 'keys', 'pop', 'popitem', 'setdefault', 'update', 'values']\n"
     ]
    }
   ],
   "source": [
    "print(dir(t))"
   ]
  },
  {
   "cell_type": "code",
   "execution_count": null,
   "id": "b2f5af80",
   "metadata": {},
   "outputs": [],
   "source": [
    "{[('':[])]}"
   ]
  },
  {
   "cell_type": "code",
   "execution_count": 39,
   "id": "085d1c82",
   "metadata": {},
   "outputs": [
    {
     "name": "stdout",
     "output_type": "stream",
     "text": [
      "name rollnumber sal "
     ]
    }
   ],
   "source": [
    "for j in t:\n",
    "    print(j,end=\" \")"
   ]
  },
  {
   "cell_type": "code",
   "execution_count": 40,
   "id": "de5cf12d",
   "metadata": {},
   "outputs": [
    {
     "data": {
      "text/plain": [
       "dict_keys(['name', 'rollnumber', 'sal'])"
      ]
     },
     "execution_count": 40,
     "metadata": {},
     "output_type": "execute_result"
    }
   ],
   "source": [
    "t.keys()"
   ]
  },
  {
   "cell_type": "code",
   "execution_count": 41,
   "id": "d120a2db",
   "metadata": {},
   "outputs": [
    {
     "data": {
      "text/plain": [
       "dict_values(['raju', '23', 23000])"
      ]
     },
     "execution_count": 41,
     "metadata": {},
     "output_type": "execute_result"
    }
   ],
   "source": [
    "t.values()"
   ]
  },
  {
   "cell_type": "code",
   "execution_count": 42,
   "id": "02f80a57",
   "metadata": {},
   "outputs": [
    {
     "data": {
      "text/plain": [
       "dict_items([('name', 'raju'), ('rollnumber', '23'), ('sal', 23000)])"
      ]
     },
     "execution_count": 42,
     "metadata": {},
     "output_type": "execute_result"
    }
   ],
   "source": [
    "t.items()"
   ]
  },
  {
   "cell_type": "code",
   "execution_count": 43,
   "id": "47aa2edf",
   "metadata": {},
   "outputs": [
    {
     "data": {
      "text/plain": [
       "'raju'"
      ]
     },
     "execution_count": 43,
     "metadata": {},
     "output_type": "execute_result"
    }
   ],
   "source": [
    "t['name']"
   ]
  },
  {
   "cell_type": "code",
   "execution_count": 44,
   "id": "8ca2599b",
   "metadata": {},
   "outputs": [
    {
     "data": {
      "text/plain": [
       "23000"
      ]
     },
     "execution_count": 44,
     "metadata": {},
     "output_type": "execute_result"
    }
   ],
   "source": [
    "t.get('sal')"
   ]
  },
  {
   "cell_type": "code",
   "execution_count": 49,
   "id": "77a7bd5b",
   "metadata": {},
   "outputs": [
    {
     "name": "stdout",
     "output_type": "stream",
     "text": [
      "name => raju\n",
      "sal => 23000\n",
      "desig => Developer\n"
     ]
    }
   ],
   "source": [
    "g = ['name','sal','desig']\n",
    "h = ['raju',23000,'Developer']\n",
    "for i,j in zip(g,h):\n",
    "    print(\"{} => {}\".format(i,j),end=\"\\n\")"
   ]
  },
  {
   "cell_type": "code",
   "execution_count": null,
   "id": "2e0b07a9",
   "metadata": {},
   "outputs": [],
   "source": []
  }
 ],
 "metadata": {
  "kernelspec": {
   "display_name": "Python 3",
   "language": "python",
   "name": "python3"
  },
  "language_info": {
   "codemirror_mode": {
    "name": "ipython",
    "version": 3
   },
   "file_extension": ".py",
   "mimetype": "text/x-python",
   "name": "python",
   "nbconvert_exporter": "python",
   "pygments_lexer": "ipython3",
   "version": "3.7.5"
  }
 },
 "nbformat": 4,
 "nbformat_minor": 5
}
