{
 "cells": [
  {
   "cell_type": "markdown",
   "id": "efed5585",
   "metadata": {},
   "source": [
    "### Functions:\n",
    "    - To Perform a specific task\n",
    "    - Two types\n",
    "    - Built-in Function [Already work has been fixed for that function]\n",
    "    - User defined function [User has to define a work]\n",
    "    Syntax:\n",
    "    \n",
    "        def functionname(parameters):\n",
    "            //stmnts\n",
    "            return return_value\n",
    "    "
   ]
  },
  {
   "cell_type": "markdown",
   "id": "0394c469",
   "metadata": {},
   "source": [
    "### User Definedd functions:\n",
    "    - With return_type and with arguments\n",
    "    - With return_type and without arguments\n",
    "    - Without return_type and with arguments\n",
    "    - Without return_type and without arguments"
   ]
  },
  {
   "cell_type": "markdown",
   "id": "f0b01f7e",
   "metadata": {},
   "source": [
    "#### With return type and with arguments:\n",
    "```\n",
    "Reading -> Main\n",
    "Printing -> Main\n",
    "Logic -> Function\n",
    "```"
   ]
  },
  {
   "cell_type": "code",
   "execution_count": 2,
   "id": "f0269c7f",
   "metadata": {},
   "outputs": [
    {
     "name": "stdout",
     "output_type": "stream",
     "text": [
      "5\n",
      "6\n",
      "Sum of 5 and 6 is: 11\n"
     ]
    }
   ],
   "source": [
    "def add(c,d):\n",
    "    return c+d\n",
    "\n",
    "n = int(input())\n",
    "m = int(input())\n",
    "print(\"Sum of {} and {} is: {}\".format(n,m,add(n,m)))"
   ]
  },
  {
   "cell_type": "code",
   "execution_count": 3,
   "id": "1534f4fe",
   "metadata": {},
   "outputs": [
    {
     "data": {
      "text/plain": [
       "11"
      ]
     },
     "execution_count": 3,
     "metadata": {},
     "output_type": "execute_result"
    }
   ],
   "source": [
    "add(4,7)"
   ]
  },
  {
   "cell_type": "markdown",
   "id": "116072e7",
   "metadata": {},
   "source": [
    "#### With return type and without arguments:\n",
    "```\n",
    "Reading -> Function\n",
    "Printing -> Main\n",
    "Logic -> Function\n",
    "```"
   ]
  },
  {
   "cell_type": "code",
   "execution_count": 6,
   "id": "a3d7c438",
   "metadata": {},
   "outputs": [
    {
     "name": "stdout",
     "output_type": "stream",
     "text": [
      "4\n",
      "5\n",
      "Sub of 4 and 5 is: 9\n"
     ]
    }
   ],
   "source": [
    "def sub():\n",
    "    n = int(input())\n",
    "    m = int(input())\n",
    "    print(\"Sub of {} and {} is:\".format(n,m),end=\" \")\n",
    "    return n+m\n",
    "\n",
    "print(\"{}\".format(sub()))"
   ]
  },
  {
   "cell_type": "markdown",
   "id": "147951b2",
   "metadata": {},
   "source": [
    "#### Without return type and with arguments:\n",
    "```\n",
    "Reading -> Main\n",
    "Printing -> Function\n",
    "Logic -> Function\n",
    "```"
   ]
  },
  {
   "cell_type": "code",
   "execution_count": 11,
   "id": "795405ac",
   "metadata": {},
   "outputs": [
    {
     "name": "stdout",
     "output_type": "stream",
     "text": [
      "20\n",
      "5\n",
      "20 mod 5 is: 0 "
     ]
    }
   ],
   "source": [
    "def mod(t,y):\n",
    "    print(\"{} mod {} is: {}\".format(t,y,t%y),end=\" \")\n",
    "\n",
    "n = int(input())\n",
    "m = int(input())\n",
    "mod(n,m)"
   ]
  },
  {
   "cell_type": "markdown",
   "id": "db53bacb",
   "metadata": {},
   "source": [
    "#### Without return type and without arguments:\n",
    "```\n",
    "Reading -> Function\n",
    "Printing -> Function\n",
    "Logic -> Function\n",
    "```"
   ]
  },
  {
   "cell_type": "code",
   "execution_count": 13,
   "id": "b1c2a6e1",
   "metadata": {},
   "outputs": [
    {
     "name": "stdout",
     "output_type": "stream",
     "text": [
      "2\n",
      "5\n",
      "2 power of 5 is: 32\n"
     ]
    }
   ],
   "source": [
    "def po():\n",
    "    n = int(input())\n",
    "    m = int(input())\n",
    "    print(\"{} power of {} is: {}\".format(n,m,n**m))\n",
    "\n",
    "    \n",
    "po()"
   ]
  },
  {
   "cell_type": "markdown",
   "id": "f4c31fbd",
   "metadata": {},
   "source": [
    "### Fucntion arguments\n",
    "    - Default arguments\n",
    "    - Required arguments\n",
    "    - Keyword arguemnts\n",
    "    - Variable-length arguments"
   ]
  },
  {
   "cell_type": "code",
   "execution_count": 17,
   "id": "d55ce647",
   "metadata": {},
   "outputs": [
    {
     "name": "stdout",
     "output_type": "stream",
     "text": [
      "Student name is: raju and age is: 20\n",
      "Student name is: somu and age is: 23\n"
     ]
    }
   ],
   "source": [
    "# Default arguments\n",
    "def students(name,age=20):\n",
    "    print(\"Student name is: {} and age is: {}\"\n",
    "          .format(name,age))\n",
    "    \n",
    "students(\"raju\")\n",
    "students(\"somu\",23)"
   ]
  },
  {
   "cell_type": "code",
   "execution_count": 22,
   "id": "f1780666",
   "metadata": {},
   "outputs": [
    {
     "ename": "TypeError",
     "evalue": "students() missing 1 required positional argument: 'age'",
     "output_type": "error",
     "traceback": [
      "\u001b[1;31m---------------------------------------------------------------------------\u001b[0m",
      "\u001b[1;31mTypeError\u001b[0m                                 Traceback (most recent call last)",
      "\u001b[1;32m<ipython-input-22-73c6f62dd822>\u001b[0m in \u001b[0;36m<module>\u001b[1;34m\u001b[0m\n\u001b[0;32m      4\u001b[0m           .format(name,age,sal))\n\u001b[0;32m      5\u001b[0m \u001b[1;33m\u001b[0m\u001b[0m\n\u001b[1;32m----> 6\u001b[1;33m \u001b[0mstudents\u001b[0m\u001b[1;33m(\u001b[0m\u001b[1;34m\"kiran\"\u001b[0m\u001b[1;33m)\u001b[0m\u001b[1;33m\u001b[0m\u001b[1;33m\u001b[0m\u001b[0m\n\u001b[0m\u001b[0;32m      7\u001b[0m \u001b[0mstudents\u001b[0m\u001b[1;33m(\u001b[0m\u001b[1;34m\"somu\"\u001b[0m\u001b[1;33m,\u001b[0m\u001b[1;36m23\u001b[0m\u001b[1;33m)\u001b[0m\u001b[1;33m\u001b[0m\u001b[1;33m\u001b[0m\u001b[0m\n",
      "\u001b[1;31mTypeError\u001b[0m: students() missing 1 required positional argument: 'age'"
     ]
    }
   ],
   "source": [
    "# Required arguments or Positional arguments\n",
    "def students(name,age,sal=23000):\n",
    "    print(\"Student name is: {} and age is: {} sal is: {}\"\n",
    "          .format(name,age,sal))\n",
    "    \n",
    "students(\"kiran\")\n",
    "students(\"somu\",23)"
   ]
  },
  {
   "cell_type": "code",
   "execution_count": 24,
   "id": "bb4d62af",
   "metadata": {},
   "outputs": [
    {
     "ename": "TypeError",
     "evalue": "students() got an unexpected keyword argument 'age1'",
     "output_type": "error",
     "traceback": [
      "\u001b[1;31m---------------------------------------------------------------------------\u001b[0m",
      "\u001b[1;31mTypeError\u001b[0m                                 Traceback (most recent call last)",
      "\u001b[1;32m<ipython-input-24-d8c205a7afe2>\u001b[0m in \u001b[0;36m<module>\u001b[1;34m\u001b[0m\n\u001b[0;32m      4\u001b[0m           .format(name,age,sal))\n\u001b[0;32m      5\u001b[0m \u001b[1;33m\u001b[0m\u001b[0m\n\u001b[1;32m----> 6\u001b[1;33m \u001b[0mstudents\u001b[0m\u001b[1;33m(\u001b[0m\u001b[0mage1\u001b[0m\u001b[1;33m=\u001b[0m\u001b[1;36m20\u001b[0m\u001b[1;33m,\u001b[0m\u001b[0mname\u001b[0m\u001b[1;33m=\u001b[0m\u001b[1;34m\"kiran\"\u001b[0m\u001b[1;33m)\u001b[0m\u001b[1;33m\u001b[0m\u001b[1;33m\u001b[0m\u001b[0m\n\u001b[0m\u001b[0;32m      7\u001b[0m \u001b[1;31m# students(\"somu\",23)\u001b[0m\u001b[1;33m\u001b[0m\u001b[1;33m\u001b[0m\u001b[1;33m\u001b[0m\u001b[0m\n",
      "\u001b[1;31mTypeError\u001b[0m: students() got an unexpected keyword argument 'age1'"
     ]
    }
   ],
   "source": [
    "# Keyword arrguments\n",
    "def students(name,age,sal=23000):\n",
    "    print(\"Student name is: {} and age is: {} sal is: {}\"\n",
    "          .format(name,age,sal))\n",
    "    \n",
    "students(age1=20,name=\"kiran\")\n",
    "# students(\"somu\",23)"
   ]
  },
  {
   "cell_type": "code",
   "execution_count": 25,
   "id": "259aaefc",
   "metadata": {},
   "outputs": [
    {
     "name": "stdout",
     "output_type": "stream",
     "text": [
      "2 <class 'int'>\n",
      "(4, 5, 67, 8, 9, 90) <class 'tuple'>\n"
     ]
    }
   ],
   "source": [
    "# Variable-Length Arguments\n",
    "def st(r,*y):\n",
    "    print(r,type(r))\n",
    "    print(y,type(y))\n",
    "\n",
    "    \n",
    "st(2,4,5,67,8,9,90)"
   ]
  },
  {
   "cell_type": "markdown",
   "id": "2ece3cbc",
   "metadata": {},
   "source": [
    "### Comprehensions:\n",
    "    - List,set,tuple and dictionary\n",
    "    - To write loop in a single line\n",
    "    "
   ]
  },
  {
   "cell_type": "code",
   "execution_count": 26,
   "id": "1093202a",
   "metadata": {},
   "outputs": [
    {
     "name": "stdout",
     "output_type": "stream",
     "text": [
      "1 2 5 6 8 \n",
      "[1, 2, 5, 6, 8]\n"
     ]
    }
   ],
   "source": [
    "j = [int(i) for i in input().split()]\n",
    "print(j)"
   ]
  },
  {
   "cell_type": "code",
   "execution_count": 28,
   "id": "a3bd1beb",
   "metadata": {},
   "outputs": [
    {
     "name": "stdout",
     "output_type": "stream",
     "text": [
      "1 5 8 93\n",
      "[1, 5, 8, 93]\n"
     ]
    }
   ],
   "source": [
    "k = input().split()\n",
    "g = []\n",
    "for j in k:\n",
    "    g.append(int(j))\n",
    "\n",
    "print(g)"
   ]
  },
  {
   "cell_type": "code",
   "execution_count": 31,
   "id": "ef996034",
   "metadata": {},
   "outputs": [
    {
     "name": "stdout",
     "output_type": "stream",
     "text": [
      "1 2 5 89\n",
      "[2]\n"
     ]
    }
   ],
   "source": [
    "s = [int(i) for i in input().split() if int(i)%2==0] \n",
    "print(s)"
   ]
  },
  {
   "cell_type": "code",
   "execution_count": 33,
   "id": "b119163d",
   "metadata": {},
   "outputs": [
    {
     "name": "stdout",
     "output_type": "stream",
     "text": [
      "2 5 8 5 2 5 2 5 2 5\n",
      "{8, 2, 5}\n"
     ]
    }
   ],
   "source": [
    "t = {int(i) for i in input().split()}\n",
    "print(t)"
   ]
  },
  {
   "cell_type": "code",
   "execution_count": 37,
   "id": "84dd27fd",
   "metadata": {},
   "outputs": [
    {
     "name": "stdout",
     "output_type": "stream",
     "text": [
      "1 5 93\n",
      "{'1': 2, '5': 6, '93': 94} <class 'dict'>\n"
     ]
    }
   ],
   "source": [
    "p = {i:int(i)+1 for i in input().split()}\n",
    "print(p,type(p))"
   ]
  },
  {
   "cell_type": "markdown",
   "id": "daae89cd",
   "metadata": {},
   "source": [
    "### Map\n",
    "    -> It converts entire data structure of single data type to another data type\n",
    "    -> map(data_type,iterator)"
   ]
  },
  {
   "cell_type": "code",
   "execution_count": 38,
   "id": "ce21a435",
   "metadata": {},
   "outputs": [
    {
     "name": "stdout",
     "output_type": "stream",
     "text": [
      "1 5 4 8 6\n",
      "[1, 5, 4, 8, 6]\n"
     ]
    }
   ],
   "source": [
    "y = list(map(int,input().split()))\n",
    "print(y)"
   ]
  },
  {
   "cell_type": "code",
   "execution_count": 39,
   "id": "5970f5a3",
   "metadata": {},
   "outputs": [
    {
     "name": "stdout",
     "output_type": "stream",
     "text": [
      "1 5 7 8 9 6\n",
      "<map object at 0x00000199B5CFE0C8> <class 'map'>\n"
     ]
    }
   ],
   "source": [
    "p = map(int,input())\n",
    "print(p,type(p))"
   ]
  },
  {
   "cell_type": "markdown",
   "id": "4263ec27",
   "metadata": {},
   "source": [
    "### Filter\n",
    "    -> It checks either True or False\n",
    "    -> It prints only True or False statements\n"
   ]
  },
  {
   "cell_type": "code",
   "execution_count": 85,
   "id": "cc54850b",
   "metadata": {},
   "outputs": [
    {
     "name": "stdout",
     "output_type": "stream",
     "text": [
      "1 5 8 46\n",
      "[5, 8, 46]\n"
     ]
    }
   ],
   "source": [
    "j = list(map(int,input().split()))\n",
    "print(list(filter(lambda x:x>2,j)))"
   ]
  },
  {
   "cell_type": "code",
   "execution_count": 45,
   "id": "79cbd59e",
   "metadata": {},
   "outputs": [
    {
     "name": "stdout",
     "output_type": "stream",
     "text": [
      "['__class__', '__delattr__', '__dir__', '__doc__', '__eq__', '__format__', '__ge__', '__getattribute__', '__gt__', '__hash__', '__init__', '__init_subclass__', '__iter__', '__le__', '__lt__', '__ne__', '__new__', '__next__', '__reduce__', '__reduce_ex__', '__repr__', '__setattr__', '__sizeof__', '__str__', '__subclasshook__']\n"
     ]
    }
   ],
   "source": [
    "print(dir(filter))"
   ]
  },
  {
   "cell_type": "code",
   "execution_count": 46,
   "id": "a31f17b4",
   "metadata": {},
   "outputs": [
    {
     "name": "stdout",
     "output_type": "stream",
     "text": [
      "Help on class filter in module builtins:\n",
      "\n",
      "class filter(object)\n",
      " |  filter(function or None, iterable) --> filter object\n",
      " |  \n",
      " |  Return an iterator yielding those items of iterable for which function(item)\n",
      " |  is true. If function is None, return the items that are true.\n",
      " |  \n",
      " |  Methods defined here:\n",
      " |  \n",
      " |  __getattribute__(self, name, /)\n",
      " |      Return getattr(self, name).\n",
      " |  \n",
      " |  __iter__(self, /)\n",
      " |      Implement iter(self).\n",
      " |  \n",
      " |  __next__(self, /)\n",
      " |      Implement next(self).\n",
      " |  \n",
      " |  __reduce__(...)\n",
      " |      Return state information for pickling.\n",
      " |  \n",
      " |  ----------------------------------------------------------------------\n",
      " |  Static methods defined here:\n",
      " |  \n",
      " |  __new__(*args, **kwargs) from builtins.type\n",
      " |      Create and return a new object.  See help(type) for accurate signature.\n",
      "\n"
     ]
    }
   ],
   "source": [
    "help(filter)"
   ]
  },
  {
   "cell_type": "markdown",
   "id": "d15d4348",
   "metadata": {},
   "source": [
    "### Lambda:\n",
    "    - Anonymous Function\n",
    "    - Without using def keyword we can create a function\n",
    "    - Syntax:\n",
    "        lambda variablename:expression"
   ]
  },
  {
   "cell_type": "code",
   "execution_count": 52,
   "id": "17eba75c",
   "metadata": {},
   "outputs": [
    {
     "data": {
      "text/plain": [
       "4"
      ]
     },
     "execution_count": 52,
     "metadata": {},
     "output_type": "execute_result"
    }
   ],
   "source": [
    "f = lambda x,y:x+y\n",
    "f(1,3)"
   ]
  },
  {
   "cell_type": "code",
   "execution_count": 53,
   "id": "73f1ffa6",
   "metadata": {},
   "outputs": [
    {
     "data": {
      "text/plain": [
       "7"
      ]
     },
     "execution_count": 53,
     "metadata": {},
     "output_type": "execute_result"
    }
   ],
   "source": [
    "f(3,4)"
   ]
  },
  {
   "cell_type": "code",
   "execution_count": 54,
   "id": "070ec5b2",
   "metadata": {},
   "outputs": [
    {
     "name": "stdout",
     "output_type": "stream",
     "text": [
      "<class 'function'>\n"
     ]
    }
   ],
   "source": [
    "print(type(f))"
   ]
  },
  {
   "cell_type": "code",
   "execution_count": 83,
   "id": "98242105",
   "metadata": {},
   "outputs": [
    {
     "name": "stdout",
     "output_type": "stream",
     "text": [
      "1 2 5 87\n"
     ]
    },
    {
     "data": {
      "text/plain": [
       "[87]"
      ]
     },
     "execution_count": 83,
     "metadata": {},
     "output_type": "execute_result"
    }
   ],
   "source": [
    "list(filter(lambda c:c if c>20 else 0,map(int,input().split())))"
   ]
  },
  {
   "cell_type": "markdown",
   "id": "5fc7487c",
   "metadata": {},
   "source": [
    "### Files:\n",
    "    - To store a data permanently\n",
    "    - File modes\n",
    "    - Read,write,append,Execute\n",
    "    - r,w,a,x"
   ]
  },
  {
   "cell_type": "markdown",
   "id": "f36e2e5a",
   "metadata": {},
   "source": [
    "### Read:\n",
    "    -> If File doesnt exists it will displays an error\n",
    "\n",
    "### Write:\n",
    "    -> If file doesnt exists it will create a file with specific file name\n",
    "    -> It removes previous data when the file name exists.\n",
    "\n",
    "### Append:\n",
    "    -> If file doesnt exists it will creates a file with specific file name\n",
    "    -> It doesnt erases previous data. It attaches the present input to a file\n",
    "\n",
    "### Execute:\n",
    "    -> It checks the file for first time whether the file exists or not.\n",
    "    -> It create a file with specific file name\n",
    "    -> If the file exists it creates a file."
   ]
  },
  {
   "cell_type": "code",
   "execution_count": 87,
   "id": "6738b902",
   "metadata": {},
   "outputs": [
    {
     "name": "stdout",
     "output_type": "stream",
     "text": [
      "tsdkfb hjsb sadjn fkjnasd\n"
     ]
    }
   ],
   "source": [
    "with open('sample.text','w') as fh:\n",
    "    n = input()\n",
    "    fh.write(n)"
   ]
  },
  {
   "cell_type": "code",
   "execution_count": 92,
   "id": "336c297a",
   "metadata": {},
   "outputs": [
    {
     "name": "stdout",
     "output_type": "stream",
     "text": [
      "tsdkfb hjsb sadjn fkjnasd\n"
     ]
    }
   ],
   "source": [
    "with open('sample.text','r') as fg:\n",
    "#     print(fg.readlines())\n",
    "#     print(fg.readline())\n",
    "    print(fg.read())"
   ]
  },
  {
   "cell_type": "code",
   "execution_count": null,
   "id": "f1532b5b",
   "metadata": {},
   "outputs": [],
   "source": [
    "Input.text:\n",
    "2 5\n",
    "\n",
    "Output.txt:\n",
    "2\n",
    "3\n",
    "4\n",
    "5"
   ]
  },
  {
   "cell_type": "code",
   "execution_count": 130,
   "id": "745fba0f",
   "metadata": {},
   "outputs": [
    {
     "name": "stdout",
     "output_type": "stream",
     "text": [
      "2 10\n"
     ]
    }
   ],
   "source": [
    "with open('input.text','w') as fd:\n",
    "    g = input().split()\n",
    "    for j in g:\n",
    "        n = j+\" \"\n",
    "        fd.write(n)"
   ]
  },
  {
   "cell_type": "code",
   "execution_count": 132,
   "id": "60994586",
   "metadata": {},
   "outputs": [],
   "source": [
    "with open('input.text','r') as fg:\n",
    "    d = list(map(int,fg.readline().split()))\n",
    "    with open('output.text','w') as gt:\n",
    "        for j in range(d[0],d[1]+1):\n",
    "            gt.write(str(j))\n",
    "            gt.write(\"\\n\")"
   ]
  },
  {
   "cell_type": "code",
   "execution_count": null,
   "id": "44138c6a",
   "metadata": {},
   "outputs": [],
   "source": []
  }
 ],
 "metadata": {
  "kernelspec": {
   "display_name": "Python 3",
   "language": "python",
   "name": "python3"
  },
  "language_info": {
   "codemirror_mode": {
    "name": "ipython",
    "version": 3
   },
   "file_extension": ".py",
   "mimetype": "text/x-python",
   "name": "python",
   "nbconvert_exporter": "python",
   "pygments_lexer": "ipython3",
   "version": "3.7.5"
  }
 },
 "nbformat": 4,
 "nbformat_minor": 5
}
