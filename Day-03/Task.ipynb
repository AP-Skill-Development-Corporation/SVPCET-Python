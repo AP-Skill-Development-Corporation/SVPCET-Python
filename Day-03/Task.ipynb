{
 "cells": [
  {
   "cell_type": "markdown",
   "id": "ad20e011",
   "metadata": {},
   "source": [
    "#### Task-1\n",
    "```\n",
    "Given an integer, n, perform the following conditional actions:\n",
    "   - If  is odd, print Weird\n",
    "   - If  is even and in the inclusive range of 2 to 5, print Not Weird\n",
    "   - If  is even and in the inclusive range of 6 to 20, print Weird\n",
    "   - If  is even and greater than 20, print Not Weird\n",
    "\n",
    "Input Format:\n",
    "    A single line containing a positive integer,n.\n",
    "\n",
    "Output Format:\n",
    "    Print Weird if the number is weird. Otherwise, print Not Weird.\n",
    "\n",
    "Sample Input-1:\n",
    "    3\n",
    "Sample Output-1:\n",
    "    Weird\n",
    "\n",
    "Sample Input-2:\n",
    "    24\n",
    "Sample Output-2:\n",
    "    Not Weird\n",
    "  ```"
   ]
  },
  {
   "cell_type": "markdown",
   "id": "4aeb2f35",
   "metadata": {},
   "source": [
    "#### Task-2:\n",
    "```\n",
    "The provided code stub reads two integers from STDIN, a and b. Add code to print three lines where:\n",
    "    1. The first line contains the sum of the two numbers.\n",
    "    2. The second line contains the difference of the two numbers (first - second).\n",
    "    3. The third line contains the product of the two numbers.\n",
    "\n",
    "Sample Input-1:\n",
    "    3\n",
    "    2\n",
    "Sample Output-1:\n",
    "    5\n",
    "    1\n",
    "    6\n",
    "```"
   ]
  },
  {
   "cell_type": "markdown",
   "id": "654e36d8",
   "metadata": {},
   "source": [
    "#### Task-3:\n",
    "```\n",
    "    Print the square of each number on a separate line    \n",
    "Sample Input-1:\n",
    "    5\n",
    "Sample Output-1:\n",
    "    0\n",
    "    1\n",
    "    4\n",
    "    9\n",
    "    16\n",
    "\n",
    "Sample Input-2:\n",
    "    3\n",
    "Sample Output-2:\n",
    "    0\n",
    "    1\n",
    "    4\n",
    "```"
   ]
  },
  {
   "cell_type": "markdown",
   "id": "04100074",
   "metadata": {},
   "source": [
    "#### Task-4:\n",
    "```\n",
    "    For each integer n in the interval [a,b] (given as input) :\n",
    "    1. If 1<n<9, then print the English representation of it in lowercase. That is \"one\" for 1, \"two\" for 2, and so on.\n",
    "    2. Else if n>9 and it is an even number, then print \"even\".\n",
    "    3. Else if n<9 and it is an odd number, then print \"odd\".\n",
    "    \n",
    "    Sample Input-1:\n",
    "        8\n",
    "        11\n",
    "    Sample Output-1:\n",
    "        eight\n",
    "        nine\n",
    "        even\n",
    "        odd\n",
    "    Sample Input-2:\n",
    "        3\n",
    "        15\n",
    "    Sample Output-2:\n",
    "        three\n",
    "        four\n",
    "        five\n",
    "        six\n",
    "        seven\n",
    "        eight\n",
    "        nine\n",
    "        even\n",
    "        odd\n",
    "        even\n",
    "        odd\n",
    "        even\n",
    "```"
   ]
  }
 ],
 "metadata": {
  "kernelspec": {
   "display_name": "Python 3",
   "language": "python",
   "name": "python3"
  },
  "language_info": {
   "codemirror_mode": {
    "name": "ipython",
    "version": 3
   },
   "file_extension": ".py",
   "mimetype": "text/x-python",
   "name": "python",
   "nbconvert_exporter": "python",
   "pygments_lexer": "ipython3",
   "version": "3.7.5"
  }
 },
 "nbformat": 4,
 "nbformat_minor": 5
}
