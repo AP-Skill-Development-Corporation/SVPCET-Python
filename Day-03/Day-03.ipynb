{
 "cells": [
  {
   "cell_type": "markdown",
   "id": "19005063",
   "metadata": {},
   "source": [
    "### Keywords:\n",
    "    - 33 Keywords => Reserved Words\n",
    "    - True,False and None"
   ]
  },
  {
   "cell_type": "markdown",
   "id": "6e4006eb",
   "metadata": {},
   "source": [
    "### Conditional Statements:\n",
    "    -> To Check whether a given condition is Either True or False\n",
    "    -> If\n",
    "    -> If-else\n",
    "    -> Nested If\n",
    "    -> Elif\n",
    "      "
   ]
  },
  {
   "cell_type": "markdown",
   "id": "74a3e0ac",
   "metadata": {},
   "source": [
    "### If\n",
    "    -> Single Condition Cases Either True or False\n",
    "    \n",
    "    Syntax:\n",
    "        \n",
    "        if Condition:\n",
    "            //stmnts"
   ]
  },
  {
   "cell_type": "code",
   "execution_count": 18,
   "id": "b830eb7d",
   "metadata": {},
   "outputs": [
    {
     "name": "stdout",
     "output_type": "stream",
     "text": [
      "enter a number: 20\n",
      "given number is equal to 20\n"
     ]
    }
   ],
   "source": [
    "n = input(\"enter a number: \")\n",
    "if int(n)==20:\n",
    "    print(\"given number is equal to 20\")"
   ]
  },
  {
   "cell_type": "markdown",
   "id": "31c65775",
   "metadata": {},
   "source": [
    "### Type:"
   ]
  },
  {
   "cell_type": "code",
   "execution_count": 2,
   "id": "d7ae9528",
   "metadata": {},
   "outputs": [
    {
     "name": "stdout",
     "output_type": "stream",
     "text": [
      "30 <class 'int'>\n"
     ]
    }
   ],
   "source": [
    "n = 30\n",
    "print(n,type(n))"
   ]
  },
  {
   "cell_type": "code",
   "execution_count": 3,
   "id": "1f846d7e",
   "metadata": {},
   "outputs": [
    {
     "name": "stdout",
     "output_type": "stream",
     "text": [
      "23 9.89 python <class 'int'> <class 'float'> <class 'str'>\n"
     ]
    }
   ],
   "source": [
    "a,b,d=23,9.89,\"python\"\n",
    "print(a,b,d,type(a),type(b),type(d))"
   ]
  },
  {
   "cell_type": "code",
   "execution_count": 7,
   "id": "417d88e4",
   "metadata": {},
   "outputs": [
    {
     "name": "stdout",
     "output_type": "stream",
     "text": [
      "enter a value: 3\n",
      "enter b value: 6\n",
      "addition of  3  and  6  is:  9\n",
      "addition of 3 and 6 is: 9\n",
      "addition of 3 and 6 is: 9\n"
     ]
    }
   ],
   "source": [
    "a = input(\"enter a value: \")\n",
    "b = input(\"enter b value: \")\n",
    "print(\"addition of \",a,\" and \",b,\" is: \",int(a)+int(b))\n",
    "print(\"addition of %d and %d is: %d\"%(int(a),int(b),int(a)+int(b)))\n",
    "print(\"addition of {} and {} is: {}\".format(a,b,int(a)+int(b)))"
   ]
  },
  {
   "cell_type": "code",
   "execution_count": 10,
   "id": "73afd456",
   "metadata": {},
   "outputs": [
    {
     "name": "stdout",
     "output_type": "stream",
     "text": [
      "enter a value: 45\n",
      "enter b value: 56\n"
     ]
    }
   ],
   "source": [
    "a = int(input(\"enter a value: \"))\n",
    "b = int(input(\"enter b value: \"))\n",
    "if a==b:\n",
    "    print(\"given values are equal\")"
   ]
  },
  {
   "cell_type": "markdown",
   "id": "afc305ca",
   "metadata": {},
   "source": [
    "### If- else:\n",
    "    - Two cases\n",
    "    Syntax:\n",
    "    if condition:\n",
    "        //stmnts-1\n",
    "    else:\n",
    "        //stmnts-2"
   ]
  },
  {
   "cell_type": "code",
   "execution_count": 13,
   "id": "0ee2ae80",
   "metadata": {},
   "outputs": [
    {
     "name": "stdout",
     "output_type": "stream",
     "text": [
      "enter integer value: 2\n",
      "enter float value: 2.00\n",
      "Two values are equal\n"
     ]
    }
   ],
   "source": [
    "c = int(input(\"enter integer value: \"))\n",
    "d = float(input(\"enter float value: \"))\n",
    "if c==int(d):\n",
    "    print(\"Two values are equal\")\n",
    "else:\n",
    "    print(\"{} and {} are not equal\".format(int(c),float(d)))\n",
    "    "
   ]
  },
  {
   "cell_type": "raw",
   "id": "9eb68a91",
   "metadata": {},
   "source": [
    "### elif:\n",
    "    - Two or more cases\n",
    "    Syntax:\n",
    "        \n",
    "        if condition-1:\n",
    "            //stmnt-1\n",
    "        elif condition-2:\n",
    "            //stmnt-2\n",
    "        elif condition-3:\n",
    "            //stmnt-n\n",
    "            |       |\n",
    "        elif condition-(n-1):\n",
    "            //stmnt-[n-1]\n",
    "        else:\n",
    "            //stmnt-n"
   ]
  },
  {
   "cell_type": "code",
   "execution_count": 25,
   "id": "fc0827de",
   "metadata": {},
   "outputs": [
    {
     "name": "stdout",
     "output_type": "stream",
     "text": [
      "enter a number: 25\n",
      "given number 25 is divisible by 5\n"
     ]
    }
   ],
   "source": [
    "n=int(input(\"enter a number: \"))\n",
    "if n%12==0:\n",
    "    print(\"given number{} is even\".format(n))\n",
    "elif n%3==0 and n%2==0:\n",
    "    print(\"given number {} is divisible by 2&3\".format(n))\n",
    "elif n%2==0 and n%7==0:\n",
    "    print(\"given number {} is divisible by 2&7\".format(n))\n",
    "elif n%5==0: \n",
    "    print(\"given number {} is divisible by 5\".format(n))\n",
    "else:\n",
    "    print(\"given number is:{}\".format(n))"
   ]
  },
  {
   "cell_type": "markdown",
   "id": "14d5e36a",
   "metadata": {},
   "source": [
    "### Nested If:\n",
    "    - Two or more cases with n number of true or false cases\n",
    "    Syntax:\n",
    "        if condition-1:\n",
    "            if condition-2:\n",
    "                //stmnt-1\n",
    "            else:\n",
    "                //stmnt-2\n",
    "        else:\n",
    "            //stmnt-n\n",
    "    - Here else or elif is optional cases"
   ]
  },
  {
   "cell_type": "code",
   "execution_count": 31,
   "id": "0bc0101f",
   "metadata": {},
   "outputs": [
    {
     "name": "stdout",
     "output_type": "stream",
     "text": [
      "-----registration-----\n",
      "user_name: deepak\n",
      "password: 1616\n",
      "-----login here-----\n",
      "enter user name: deepak\n",
      "enter password: 1616\n",
      "welcome user name: deepak\n"
     ]
    }
   ],
   "source": [
    "print(\"-----registration-----\")\n",
    "u=input(\"user_name: \")\n",
    "p=input(\"password: \")\n",
    "print(\"-----login here-----\")\n",
    "user_name=input(\"enter user name: \")\n",
    "password=input(\"enter password: \")\n",
    "if user_name==u and password==p:\n",
    "    print(\"welcome user name: {}\".format(user_name))\n",
    "else:\n",
    "    print(\"invalid user name {} or password\".format(user_name))"
   ]
  },
  {
   "cell_type": "code",
   "execution_count": 37,
   "id": "cd386b39",
   "metadata": {},
   "outputs": [
    {
     "name": "stdout",
     "output_type": "stream",
     "text": [
      "-----registration-----\n",
      "user_name: deepak\n",
      "password: 1616\n",
      "-----login here-----\n",
      "enter user namedeepak\n",
      "enter password1616\n",
      "welcome user_name deepak\n"
     ]
    }
   ],
   "source": [
    "print(\"-----registration-----\")\n",
    "u=input(\"user_name: \")\n",
    "p=input(\"password: \")\n",
    "print(\"-----login here-----\")\n",
    "user_name=input(\"enter user name\")\n",
    "if user_name==u:\n",
    "    password=input(\"enter password\")\n",
    "    if password==p:\n",
    "        print(\"welcome user_name {}\".format(user_name))\n",
    "    else:\n",
    "        print(\"invalid password\")\n",
    "else:\n",
    "    print(\"invalid user name {}\".format(user_name))      \n",
    "    "
   ]
  },
  {
   "cell_type": "markdown",
   "id": "94937075",
   "metadata": {},
   "source": [
    "### Loops,Iterations and Repitition\n",
    "    -> To execute a statement for n number of times\n",
    "    -> To Control the flow of execution\n",
    "    -> For => For Particular range [Known Ranges]\n",
    "    -> While => For UnKnown and Known Ranges"
   ]
  },
  {
   "cell_type": "markdown",
   "id": "fb55b02a",
   "metadata": {},
   "source": [
    "### For:\n",
    "    -> For Known Ranges\n",
    "    Syntax:\n",
    "        for iterationvariablename in iterator:\n",
    "            //stmnts\n",
    "   \n",
    "        for iteration_variablename in range():\n",
    "            //stmnts\n",
    "            \n",
    "        range(stop):\n",
    "            -> starts at 0\n",
    "            -> ends at n-1\n",
    "            \n",
    "        range(start,stop)\n",
    "            -> starts at exactly at given range\n",
    "            -> ends at n-1\n",
    "        \n",
    "        range(start,stop,step)\n",
    "            -> starts at exactly at given range\n",
    "            -> ends at n-1\n",
    "            -> step with given value\n",
    "        \n",
    "        "
   ]
  },
  {
   "cell_type": "code",
   "execution_count": 43,
   "id": "d43ae4b1",
   "metadata": {},
   "outputs": [
    {
     "name": "stdout",
     "output_type": "stream",
     "text": [
      "Enter starting range: 100\n",
      "Enter Ending range: 200\n",
      "Enter Stepping value: 20\n",
      "100 120 140 160 180 "
     ]
    }
   ],
   "source": [
    "n = int(input(\"Enter starting range: \"))\n",
    "m = int(input(\"Enter Ending range: \"))\n",
    "s = int(input(\"Enter Stepping value: \"))\n",
    "for j in range(n,m,s):\n",
    "    print(j,end=\" \")"
   ]
  },
  {
   "cell_type": "code",
   "execution_count": 47,
   "id": "e48ba885",
   "metadata": {},
   "outputs": [
    {
     "name": "stdout",
     "output_type": "stream",
     "text": [
      "12345678789785653211213465312\n",
      "Given number is: 0 and its reverse is: 21356431211235658798787654321\n"
     ]
    }
   ],
   "source": [
    "n = int(input())\n",
    "m = 0\n",
    "while n!=0:\n",
    "    m=m*10+n%10\n",
    "    n=n//10\n",
    "print(\"Given number is: {} and its reverse is: {}\".format(n,m))"
   ]
  },
  {
   "cell_type": "code",
   "execution_count": null,
   "id": "e8f4ec75",
   "metadata": {},
   "outputs": [],
   "source": []
  }
 ],
 "metadata": {
  "kernelspec": {
   "display_name": "Python 3",
   "language": "python",
   "name": "python3"
  },
  "language_info": {
   "codemirror_mode": {
    "name": "ipython",
    "version": 3
   },
   "file_extension": ".py",
   "mimetype": "text/x-python",
   "name": "python",
   "nbconvert_exporter": "python",
   "pygments_lexer": "ipython3",
   "version": "3.7.5"
  }
 },
 "nbformat": 4,
 "nbformat_minor": 5
}
