{
 "cells": [
  {
   "cell_type": "markdown",
   "id": "24b68ba8",
   "metadata": {},
   "source": [
    "### Inner Loops:\n",
    "    - Loop within a loop\n",
    "    Syntax:\n",
    "        for iterationvariablename in iterator:\n",
    "            for iterationvariablename in iterator:\n",
    "                //stmnts\n",
    "            // stmnts"
   ]
  },
  {
   "cell_type": "code",
   "execution_count": 12,
   "id": "8d7cded3",
   "metadata": {},
   "outputs": [
    {
     "name": "stdout",
     "output_type": "stream",
     "text": [
      "5\n",
      "00 01 02 03 04 \n",
      "10 11 12 13 14 \n",
      "20 21 22 23 24 \n",
      "30 31 32 33 34 \n",
      "40 41 42 43 44 \n"
     ]
    }
   ],
   "source": [
    "n = int(input())\n",
    "for j in range(n):\n",
    "    for k in range(n):\n",
    "        print(\"{}{}\".format(j,k),end=\" \")\n",
    "    print(end=\"\\n\")"
   ]
  },
  {
   "cell_type": "code",
   "execution_count": 18,
   "id": "21a21751",
   "metadata": {},
   "outputs": [
    {
     "name": "stdout",
     "output_type": "stream",
     "text": [
      "5\n",
      "01 02 03 04 05 \n",
      "06 07 08 09 10 \n",
      "11 12 13 14 15 \n",
      "16 17 18 19 20 \n",
      "21 22 23 24 25 \n"
     ]
    }
   ],
   "source": [
    "n = int(input())\n",
    "ky = 1\n",
    "for j in range(n):\n",
    "    for k in range(n):\n",
    "        print(\"{:02}\".format(ky),end=\" \")\n",
    "        ky+=1\n",
    "    print(end=\"\\n\")"
   ]
  },
  {
   "cell_type": "code",
   "execution_count": 15,
   "id": "b710717e",
   "metadata": {},
   "outputs": [
    {
     "name": "stdout",
     "output_type": "stream",
     "text": [
      "4\n",
      "01 02 03 04 \n",
      "05 06 07 08 \n",
      "09 10 11 12 \n",
      "13 14 15 16 \n"
     ]
    }
   ],
   "source": [
    "n = int(input())\n",
    "ky = 1\n",
    "for j in range(n):\n",
    "    for k in range(n):\n",
    "        if ky > 9:\n",
    "            print(ky,end=\" \")\n",
    "        else:\n",
    "            print(\"0\"+str(ky),end=\" \")\n",
    "        ky+=1\n",
    "    print(end=\"\\n\")"
   ]
  },
  {
   "cell_type": "code",
   "execution_count": 17,
   "id": "be4c23b5",
   "metadata": {},
   "outputs": [
    {
     "name": "stdout",
     "output_type": "stream",
     "text": [
      "5\n",
      "001 002 003 004 005 \n",
      "006 007 008 009 010 \n",
      "011 012 013 014 015 \n",
      "016 017 018 019 020 \n",
      "021 022 023 024 025 \n"
     ]
    }
   ],
   "source": [
    "n = int(input())\n",
    "ky = 1\n",
    "for j in range(n):\n",
    "    for k in range(n):\n",
    "        print(\"{:03}\".format(ky),end=\" \")\n",
    "        ky+=1\n",
    "    print(end=\"\\n\")"
   ]
  },
  {
   "cell_type": "code",
   "execution_count": null,
   "id": "dd9c0de4",
   "metadata": {},
   "outputs": [],
   "source": [
    "19G01A0401\n",
    "19G01A0402\n",
    "19G01A0403\n",
    "\n",
    "\n",
    "19G01A0409\n",
    "19G01A0410\n",
    "19G01A0411"
   ]
  },
  {
   "cell_type": "code",
   "execution_count": null,
   "id": "0ff33600",
   "metadata": {},
   "outputs": [],
   "source": [
    "19G01A0401\n",
    "19G01A0501\n",
    "19G01A0601\n",
    "\n",
    "\n",
    "19G01A0701\n",
    "19G01A0801\n",
    "19G01A0901"
   ]
  },
  {
   "cell_type": "code",
   "execution_count": null,
   "id": "b8a7d7fe",
   "metadata": {},
   "outputs": [],
   "source": [
    "18G01A0401   19G01A0401\n",
    "18G01A0402   19G01A0402\n",
    "18G01A0403   19G01A0403\n",
    "\n",
    "\n",
    "18G01A0409   19G01A0409\n",
    "18G01A0410   19G01A0410\n",
    "18G01A0411   19G01A0411 "
   ]
  },
  {
   "cell_type": "markdown",
   "id": "2e196b02",
   "metadata": {},
   "source": [
    "### Jumping Statements:\n",
    "    - continue\n",
    "        -> skips the value\n",
    "    - break\n",
    "        -> exists from the loop\n",
    "    - pass\n",
    "        -> For future enhancement\n",
    "    - return\n",
    "        -> To return a value from a function"
   ]
  },
  {
   "cell_type": "code",
   "execution_count": 19,
   "id": "29ded78e",
   "metadata": {},
   "outputs": [
    {
     "name": "stdout",
     "output_type": "stream",
     "text": [
      "5\n",
      "0 1 2 4 "
     ]
    }
   ],
   "source": [
    "n = int(input())\n",
    "for k in range(n):\n",
    "    if k == 3:\n",
    "        continue\n",
    "    print(k,end=\" \")"
   ]
  },
  {
   "cell_type": "code",
   "execution_count": null,
   "id": "7c48edb3",
   "metadata": {},
   "outputs": [],
   "source": [
    "401\n",
    "\n",
    "411\n",
    "\n",
    "408 405\n",
    "\n",
    "401\n",
    "402\n",
    "403\n",
    "404\n",
    "406\n",
    "407\n",
    "409\n",
    "410\n",
    "411"
   ]
  },
  {
   "cell_type": "code",
   "execution_count": 20,
   "id": "41869e68",
   "metadata": {},
   "outputs": [
    {
     "name": "stdout",
     "output_type": "stream",
     "text": [
      "20\n",
      "0 1 "
     ]
    }
   ],
   "source": [
    "h = int(input())\n",
    "for j in range(h):\n",
    "    if j == 2:\n",
    "        break\n",
    "    print(j,end=\" \")"
   ]
  },
  {
   "cell_type": "code",
   "execution_count": 39,
   "id": "559d17dc",
   "metadata": {},
   "outputs": [
    {
     "name": "stdout",
     "output_type": "stream",
     "text": [
      "() || () ** [] ** () \n",
      "** || [] () ** () ** \n",
      "== == == == == == == \n",
      "** || ** [] ** :: ** \n",
      "{} || {} \n"
     ]
    }
   ],
   "source": [
    "m = 1\n",
    "for j in range(1,6):\n",
    "    for i in range(1,8):\n",
    "        if m>=32:\n",
    "            break\n",
    "        else:\n",
    "            if j == 3:\n",
    "                print(\"==\",end=\" \")\n",
    "            elif i == 2:\n",
    "                print(\"||\",end=\" \")\n",
    "            elif m%5==0:\n",
    "                print(\"[]\",end=\" \")\n",
    "            elif m%2==0:\n",
    "                print(\"**\",end=\" \")\n",
    "            elif m<=15:\n",
    "                print(\"()\",end=\" \")\n",
    "            elif m%3==0 or m%9==0:\n",
    "                print(\"::\",end=\" \")\n",
    "            else:\n",
    "                print(\"{}\",end=\" \")\n",
    "        m +=1\n",
    "    print(end=\"\\n\")"
   ]
  },
  {
   "cell_type": "markdown",
   "id": "df43376b",
   "metadata": {},
   "source": [
    "#### Python Data Structures (or) Iterators\n",
    "    - List\n",
    "    - Tuple\n",
    "    - Set\n",
    "    - Dictionary\n",
    "    - String"
   ]
  },
  {
   "cell_type": "markdown",
   "id": "225a12ac",
   "metadata": {},
   "source": [
    "#### Data Structures:\n",
    "    - List => sequence of data with different data type elements\n",
    "        - It can changes the values\n",
    "        - Slicing can be done. Index exist\n",
    "        - Ordered type of data elements\n",
    "        - It can be represented as [] and type cast can be done by using list()\n",
    "        - It allows duplicates\n",
    "    - Tuple => ordered data with static values\n",
    "        - It cant changes the values\n",
    "        - Slicing can be done. Index exists\n",
    "        - It can be represented as () and type cast as tuple()\n",
    "        - It can allows duplicatwe values \n",
    "    - Set => Unordered type of data type elements\n",
    "        - It can changes the values\n",
    "        - Slicing cant be done. Index doesnt exists\n",
    "        - Duplicates are not allowed\n",
    "        - It can be represented as {} and type cast as set()\n",
    "    - Dictionary => It can stores the value with key pairs \n",
    "        - It doesnt allows duplicates for keys and values can be allowed to duplicate\n",
    "        - It can stores ordered data of a key\n",
    "        - It can be represeted as {} and type cast as dict() with key and vallue pairs only"
   ]
  },
  {
   "cell_type": "code",
   "execution_count": 40,
   "id": "39dde7ab",
   "metadata": {},
   "outputs": [
    {
     "name": "stdout",
     "output_type": "stream",
     "text": [
      "{} <class 'dict'>\n"
     ]
    }
   ],
   "source": [
    "h = {}\n",
    "print(h,type(h))"
   ]
  },
  {
   "cell_type": "code",
   "execution_count": 42,
   "id": "1e9de7e2",
   "metadata": {},
   "outputs": [
    {
     "name": "stdout",
     "output_type": "stream",
     "text": [
      "{'r'} <class 'set'>\n"
     ]
    }
   ],
   "source": [
    "j = {'r'}\n",
    "print(j,type(j))"
   ]
  },
  {
   "cell_type": "markdown",
   "id": "2227351e",
   "metadata": {},
   "source": [
    "### List:\n",
    "    "
   ]
  },
  {
   "cell_type": "code",
   "execution_count": 43,
   "id": "eb395673",
   "metadata": {},
   "outputs": [
    {
     "name": "stdout",
     "output_type": "stream",
     "text": [
      "[] <class 'list'>\n"
     ]
    }
   ],
   "source": [
    "k = []\n",
    "print(k,type(k))"
   ]
  },
  {
   "cell_type": "code",
   "execution_count": 49,
   "id": "8a2baa7f",
   "metadata": {},
   "outputs": [
    {
     "name": "stdout",
     "output_type": "stream",
     "text": [
      "['__add__', '__class__', '__contains__', '__delattr__', '__delitem__', '__dir__', '__doc__', '__eq__', '__format__', '__ge__', '__getattribute__', '__getitem__', '__gt__', '__hash__', '__iadd__', '__imul__', '__init__', '__init_subclass__', '__iter__', '__le__', '__len__', '__lt__', '__mul__', '__ne__', '__new__', '__reduce__', '__reduce_ex__', '__repr__', '__reversed__', '__rmul__', '__setattr__', '__setitem__', '__sizeof__', '__str__', '__subclasshook__', 'append', 'clear', 'copy', 'count', 'extend', 'index', 'insert', 'pop', 'remove', 'reverse', 'sort']\n"
     ]
    }
   ],
   "source": [
    "print(dir(k))"
   ]
  },
  {
   "cell_type": "code",
   "execution_count": 50,
   "id": "d56d909e",
   "metadata": {},
   "outputs": [
    {
     "name": "stdout",
     "output_type": "stream",
     "text": [
      "['__add__', '__class__', '__contains__', '__delattr__', '__delitem__', '__dir__', '__doc__', '__eq__', '__format__', '__ge__', '__getattribute__', '__getitem__', '__gt__', '__hash__', '__iadd__', '__imul__', '__init__', '__init_subclass__', '__iter__', '__le__', '__len__', '__lt__', '__mul__', '__ne__', '__new__', '__reduce__', '__reduce_ex__', '__repr__', '__reversed__', '__rmul__', '__setattr__', '__setitem__', '__sizeof__', '__str__', '__subclasshook__', 'append', 'clear', 'copy', 'count', 'extend', 'index', 'insert', 'pop', 'remove', 'reverse', 'sort']\n"
     ]
    }
   ],
   "source": [
    "print(dir(list))"
   ]
  },
  {
   "cell_type": "code",
   "execution_count": 52,
   "id": "6b1a067d",
   "metadata": {},
   "outputs": [
    {
     "name": "stdout",
     "output_type": "stream",
     "text": [
      "[4, 5.9, 'Raju', 'a']\n"
     ]
    },
    {
     "data": {
      "text/plain": [
       "[4, 5.9, 'Raju', 'a']"
      ]
     },
     "execution_count": 52,
     "metadata": {},
     "output_type": "execute_result"
    }
   ],
   "source": [
    "j = [4,5.9,\"Raju\",'a']\n",
    "print(j)\n",
    "j"
   ]
  },
  {
   "cell_type": "code",
   "execution_count": 53,
   "id": "c60fa201",
   "metadata": {},
   "outputs": [
    {
     "name": "stdout",
     "output_type": "stream",
     "text": [
      "[1, 1, 1, 1, 1, 2, 2, 2, 2, 5, 5, 5, 5, 8]\n"
     ]
    }
   ],
   "source": [
    "j = [1,1,1,1,1,2,2,2,2,5,5,5,5,8]\n",
    "print(j)"
   ]
  },
  {
   "cell_type": "code",
   "execution_count": 62,
   "id": "118b285b",
   "metadata": {},
   "outputs": [
    {
     "name": "stdout",
     "output_type": "stream",
     "text": [
      "[2, 6, 7, 8, 'ramu', 'somu', 'kiran', 56.99, 89.0]\n",
      "2\n",
      "89.0\n",
      "[7, 8, 'ramu', 'somu']\n",
      "[8, 'ramu']\n",
      "[2, 6, 7, 8, 'ramu', 'somu', 'kiran', 56.99, 89.0]\n",
      "[7, 8, 'ramu', 'somu', 'kiran', 56.99, 89.0]\n",
      "[2, 6, 7, 8, 'ramu', 'somu']\n",
      "[2, 6, 7, 8, 'ramu', 'somu', 'kiran', 56.99, 89.0]\n"
     ]
    }
   ],
   "source": [
    "j = [2,6,7,8,\"ramu\",\"somu\",\"kiran\",56.99,89.00]\n",
    "print(j)\n",
    "print(j[0])\n",
    "print(j[-1])\n",
    "print(j[2:6])\n",
    "print(j[3:-4])\n",
    "print(j[:])\n",
    "print(j[2:])\n",
    "print(j[:-3])\n",
    "print(j[::])"
   ]
  },
  {
   "cell_type": "code",
   "execution_count": 73,
   "id": "aa2f54af",
   "metadata": {},
   "outputs": [
    {
     "name": "stdout",
     "output_type": "stream",
     "text": [
      "[2, 6, 7, 8, 'ramu', 'somu', 'kiran', 56.99, 89.0]\n",
      "[8, 'ramu', 'somu', 'kiran', 56.99, 89.0]\n",
      "[2, 6, 7, 8, 'ramu', 'somu', 'kiran']\n",
      "[89.0, 56.99, 'kiran', 'somu', 'ramu', 8, 7, 6, 2]\n",
      "[7, 'ramu', 'kiran']\n",
      "[7, 8, 'ramu', 'somu', 'kiran', 56.99]\n",
      "[56.99, 89.0]\n"
     ]
    }
   ],
   "source": [
    "print(j)\n",
    "print(j[3::])\n",
    "print(j[:7:])\n",
    "print(j[::-1])\n",
    "print(j[2:8:2])\n",
    "print(j[2:8:])\n",
    "print(j[-2::1])"
   ]
  },
  {
   "cell_type": "code",
   "execution_count": 74,
   "id": "6058395a",
   "metadata": {},
   "outputs": [
    {
     "name": "stdout",
     "output_type": "stream",
     "text": [
      "[2, 3, 44, 5, 6, 6, 6] [4, 8, 9, 0, 5]\n"
     ]
    }
   ],
   "source": [
    "n = [2,3,44,5,6,6,6]\n",
    "b = [4,8,9,0,5]\n",
    "print(n,b)"
   ]
  },
  {
   "cell_type": "code",
   "execution_count": 75,
   "id": "24649595",
   "metadata": {},
   "outputs": [
    {
     "name": "stdout",
     "output_type": "stream",
     "text": [
      "[2, 3, 44, 5, 6, 6, 6]\n",
      "[2, 3, 44, 5, 6, 6, 6, 5]\n"
     ]
    }
   ],
   "source": [
    "print(n)\n",
    "n.append(5)\n",
    "print(n)"
   ]
  },
  {
   "cell_type": "code",
   "execution_count": 76,
   "id": "fb083f27",
   "metadata": {},
   "outputs": [
    {
     "name": "stdout",
     "output_type": "stream",
     "text": [
      "[2, 3, 44, 5, 6, 6, 6, 5]\n"
     ]
    },
    {
     "ename": "TypeError",
     "evalue": "append() takes exactly one argument (2 given)",
     "output_type": "error",
     "traceback": [
      "\u001b[1;31m---------------------------------------------------------------------------\u001b[0m",
      "\u001b[1;31mTypeError\u001b[0m                                 Traceback (most recent call last)",
      "\u001b[1;32m<ipython-input-76-ccd3055d7b8d>\u001b[0m in \u001b[0;36m<module>\u001b[1;34m\u001b[0m\n\u001b[0;32m      1\u001b[0m \u001b[0mprint\u001b[0m\u001b[1;33m(\u001b[0m\u001b[0mn\u001b[0m\u001b[1;33m)\u001b[0m\u001b[1;33m\u001b[0m\u001b[1;33m\u001b[0m\u001b[0m\n\u001b[1;32m----> 2\u001b[1;33m \u001b[0mn\u001b[0m\u001b[1;33m.\u001b[0m\u001b[0mappend\u001b[0m\u001b[1;33m(\u001b[0m\u001b[1;36m5\u001b[0m\u001b[1;33m,\u001b[0m\u001b[1;36m6\u001b[0m\u001b[1;33m)\u001b[0m\u001b[1;33m\u001b[0m\u001b[1;33m\u001b[0m\u001b[0m\n\u001b[0m\u001b[0;32m      3\u001b[0m \u001b[0mprint\u001b[0m\u001b[1;33m(\u001b[0m\u001b[0mn\u001b[0m\u001b[1;33m)\u001b[0m\u001b[1;33m\u001b[0m\u001b[1;33m\u001b[0m\u001b[0m\n",
      "\u001b[1;31mTypeError\u001b[0m: append() takes exactly one argument (2 given)"
     ]
    }
   ],
   "source": [
    "print(n)\n",
    "n.append(5,6)\n",
    "print(n)"
   ]
  },
  {
   "cell_type": "code",
   "execution_count": 77,
   "id": "8ce49617",
   "metadata": {},
   "outputs": [
    {
     "name": "stdout",
     "output_type": "stream",
     "text": [
      "[2, 3, 44, 5, 6, 6, 6, 5]\n",
      "[2, 3, 44, 5, 6, 6, 6, 5, [4, 56, 6]]\n"
     ]
    }
   ],
   "source": [
    "print(n)\n",
    "j = [4,56,6]\n",
    "n.append(j)\n",
    "print(n)"
   ]
  },
  {
   "cell_type": "code",
   "execution_count": 79,
   "id": "e6df6118",
   "metadata": {},
   "outputs": [
    {
     "name": "stdout",
     "output_type": "stream",
     "text": [
      "[2, 3, 44, 5, 6, 6, 6, 5, [4, 56, 6], [5, 6]]\n",
      "[2, 3, 44, 5, 6, 6, 6, 5, [4, 56, 6], [5, 6], (5, 6)]\n"
     ]
    }
   ],
   "source": [
    "print(n)\n",
    "n.append((5,6))\n",
    "print(n)"
   ]
  },
  {
   "cell_type": "code",
   "execution_count": 80,
   "id": "cd84b14a",
   "metadata": {},
   "outputs": [
    {
     "name": "stdout",
     "output_type": "stream",
     "text": [
      "[2, 3, 44, 5, 6, 6, 6, 5, [4, 56, 6], [5, 6], (5, 6)]\n"
     ]
    }
   ],
   "source": [
    "print(n)"
   ]
  },
  {
   "cell_type": "code",
   "execution_count": 82,
   "id": "7b7eddef",
   "metadata": {},
   "outputs": [
    {
     "name": "stdout",
     "output_type": "stream",
     "text": [
      "[2, 3, 44, 5, 6, 6, 6, 5, [4, 56, 6], [5, 6], (5, 6)]\n",
      "[2, 3, 44, 5, 6, 6, 6, 5, [4, 56, 6], [5, 6], (5, 6)]\n",
      "[2, 3, 44, 5, 6, 6, 6, 5, [4, 56, 6], [5, 6], (5, 6)]\n"
     ]
    }
   ],
   "source": [
    "print(n)\n",
    "j = n.copy()\n",
    "print(j)\n",
    "print(n)"
   ]
  },
  {
   "cell_type": "code",
   "execution_count": 86,
   "id": "1bd3f2cc",
   "metadata": {},
   "outputs": [
    {
     "name": "stdout",
     "output_type": "stream",
     "text": [
      "[4, 5]\n",
      "[6, 7]\n",
      "[6, 7]\n",
      "[6, 7, [0.2, 2]]\n",
      "[6, 7]\n",
      "[6, 7, [0.2, 2]]\n",
      "[6, 7, 2000]\n"
     ]
    }
   ],
   "source": [
    "f = [4,5]\n",
    "g = [6,7]\n",
    "h = g.copy()\n",
    "print(f)\n",
    "print(g)\n",
    "print(h)\n",
    "h.append([0.2,2])\n",
    "print(h)\n",
    "print(g)\n",
    "g.append(2000)\n",
    "print(h)\n",
    "print(g)"
   ]
  },
  {
   "cell_type": "code",
   "execution_count": 89,
   "id": "96c7a2f2",
   "metadata": {},
   "outputs": [
    {
     "name": "stdout",
     "output_type": "stream",
     "text": [
      "[4, 6, 7]\n",
      "[[4, 7], 0, 7, 8, 'ramu']\n"
     ]
    }
   ],
   "source": [
    "n = [6,7]\n",
    "m = [0,7,8,\"ramu\"]\n",
    "n.insert(0,4)\n",
    "print(n)\n",
    "m.insert(0,[4,7])\n",
    "print(m)"
   ]
  },
  {
   "cell_type": "code",
   "execution_count": 90,
   "id": "49d36a01",
   "metadata": {},
   "outputs": [
    {
     "name": "stdout",
     "output_type": "stream",
     "text": [
      "['__add__', '__class__', '__contains__', '__delattr__', '__delitem__', '__dir__', '__doc__', '__eq__', '__format__', '__ge__', '__getattribute__', '__getitem__', '__gt__', '__hash__', '__iadd__', '__imul__', '__init__', '__init_subclass__', '__iter__', '__le__', '__len__', '__lt__', '__mul__', '__ne__', '__new__', '__reduce__', '__reduce_ex__', '__repr__', '__reversed__', '__rmul__', '__setattr__', '__setitem__', '__sizeof__', '__str__', '__subclasshook__', 'append', 'clear', 'copy', 'count', 'extend', 'index', 'insert', 'pop', 'remove', 'reverse', 'sort']\n"
     ]
    }
   ],
   "source": [
    "print(dir(n))"
   ]
  },
  {
   "cell_type": "code",
   "execution_count": 94,
   "id": "83eb9dcb",
   "metadata": {},
   "outputs": [
    {
     "name": "stdout",
     "output_type": "stream",
     "text": [
      "[3, 5]\n",
      "[5, 6, 7, 8, 8, 3, 5]\n"
     ]
    }
   ],
   "source": [
    "b = [3,5]\n",
    "c = [5,6,7,8,8]\n",
    "c.extend(b)\n",
    "print(b)\n",
    "print(c)"
   ]
  },
  {
   "cell_type": "code",
   "execution_count": 95,
   "id": "db8b0442",
   "metadata": {},
   "outputs": [
    {
     "name": "stdout",
     "output_type": "stream",
     "text": [
      "[3, 5, 5, 6, 7, 8]\n"
     ]
    }
   ],
   "source": [
    "b.extend([5,6,7,8])\n",
    "print(b)"
   ]
  },
  {
   "cell_type": "code",
   "execution_count": 96,
   "id": "80f7c408",
   "metadata": {},
   "outputs": [
    {
     "ename": "ValueError",
     "evalue": "2 is not in list",
     "output_type": "error",
     "traceback": [
      "\u001b[1;31m---------------------------------------------------------------------------\u001b[0m",
      "\u001b[1;31mValueError\u001b[0m                                Traceback (most recent call last)",
      "\u001b[1;32m<ipython-input-96-e66a91d1dcca>\u001b[0m in \u001b[0;36m<module>\u001b[1;34m\u001b[0m\n\u001b[0;32m      1\u001b[0m \u001b[0mn\u001b[0m \u001b[1;33m=\u001b[0m \u001b[1;33m[\u001b[0m\u001b[1;36m5\u001b[0m\u001b[1;33m,\u001b[0m\u001b[1;36m6\u001b[0m\u001b[1;33m,\u001b[0m\u001b[1;36m7\u001b[0m\u001b[1;33m,\u001b[0m\u001b[1;36m8\u001b[0m\u001b[1;33m,\u001b[0m\u001b[1;36m9\u001b[0m\u001b[1;33m]\u001b[0m\u001b[1;33m\u001b[0m\u001b[1;33m\u001b[0m\u001b[0m\n\u001b[1;32m----> 2\u001b[1;33m \u001b[0mn\u001b[0m\u001b[1;33m.\u001b[0m\u001b[0mindex\u001b[0m\u001b[1;33m(\u001b[0m\u001b[1;36m2\u001b[0m\u001b[1;33m)\u001b[0m\u001b[1;33m\u001b[0m\u001b[1;33m\u001b[0m\u001b[0m\n\u001b[0m",
      "\u001b[1;31mValueError\u001b[0m: 2 is not in list"
     ]
    }
   ],
   "source": [
    "n = [5,6,7,8,9]\n",
    "n.index(2)"
   ]
  },
  {
   "cell_type": "code",
   "execution_count": 97,
   "id": "89768721",
   "metadata": {},
   "outputs": [
    {
     "data": {
      "text/plain": [
       "2"
      ]
     },
     "execution_count": 97,
     "metadata": {},
     "output_type": "execute_result"
    }
   ],
   "source": [
    "n = [4,5,66,7,8]\n",
    "n.index(66)"
   ]
  },
  {
   "cell_type": "code",
   "execution_count": 99,
   "id": "70d22979",
   "metadata": {},
   "outputs": [
    {
     "name": "stdout",
     "output_type": "stream",
     "text": [
      "[8, 7, 66, 5, 4]\n",
      "[4, 5, 66, 7, 8]\n",
      "[4, 5, 66, 7, 8]\n"
     ]
    }
   ],
   "source": [
    "print(n)\n",
    "n.reverse()\n",
    "print(n)\n",
    "print(n)"
   ]
  },
  {
   "cell_type": "code",
   "execution_count": 100,
   "id": "2abf1bc7",
   "metadata": {},
   "outputs": [
    {
     "name": "stdout",
     "output_type": "stream",
     "text": [
      "[4, 5, 66, 7, 8]\n",
      "[4, 5, 7, 8, 66]\n"
     ]
    }
   ],
   "source": [
    "print(n)\n",
    "n.sort()\n",
    "print(n)"
   ]
  },
  {
   "cell_type": "code",
   "execution_count": 103,
   "id": "4422395f",
   "metadata": {},
   "outputs": [
    {
     "name": "stdout",
     "output_type": "stream",
     "text": [
      "[4, 5, 7, 8, 66]\n",
      "[66, 8, 7, 5, 4]\n"
     ]
    }
   ],
   "source": [
    "print(n)\n",
    "n.sort(reverse=True)\n",
    "print(n)"
   ]
  },
  {
   "cell_type": "code",
   "execution_count": 104,
   "id": "7fb7514e",
   "metadata": {},
   "outputs": [
    {
     "name": "stdout",
     "output_type": "stream",
     "text": [
      "[5, 7, 8, 9, 0, 3]\n",
      "[5, 7, 8, 9, 0]\n"
     ]
    }
   ],
   "source": [
    "b = [5,7,8,9,0,3]\n",
    "print(b)\n",
    "b.pop()\n",
    "print(b)"
   ]
  },
  {
   "cell_type": "code",
   "execution_count": 105,
   "id": "bb8f80c1",
   "metadata": {},
   "outputs": [
    {
     "name": "stdout",
     "output_type": "stream",
     "text": [
      "[5, 7, 8, 9, 0]\n",
      "[5, 7, 8, 9]\n"
     ]
    }
   ],
   "source": [
    "print(b)\n",
    "b.pop(4)\n",
    "print(b)"
   ]
  },
  {
   "cell_type": "code",
   "execution_count": 106,
   "id": "d69ce0e4",
   "metadata": {},
   "outputs": [
    {
     "name": "stdout",
     "output_type": "stream",
     "text": [
      "[5, 7, 8, 9]\n",
      "[5, 7, 9]\n"
     ]
    }
   ],
   "source": [
    "print(b)\n",
    "b.pop(2)\n",
    "print(b)"
   ]
  },
  {
   "cell_type": "code",
   "execution_count": 107,
   "id": "74703986",
   "metadata": {},
   "outputs": [
    {
     "name": "stdout",
     "output_type": "stream",
     "text": [
      "[5, 6, 78, 89, 8]\n"
     ]
    },
    {
     "ename": "ValueError",
     "evalue": "list.remove(x): x not in list",
     "output_type": "error",
     "traceback": [
      "\u001b[1;31m---------------------------------------------------------------------------\u001b[0m",
      "\u001b[1;31mValueError\u001b[0m                                Traceback (most recent call last)",
      "\u001b[1;32m<ipython-input-107-c3cf070ac547>\u001b[0m in \u001b[0;36m<module>\u001b[1;34m\u001b[0m\n\u001b[0;32m      1\u001b[0m \u001b[0mb\u001b[0m \u001b[1;33m=\u001b[0m \u001b[1;33m[\u001b[0m\u001b[1;36m5\u001b[0m\u001b[1;33m,\u001b[0m\u001b[1;36m6\u001b[0m\u001b[1;33m,\u001b[0m\u001b[1;36m78\u001b[0m\u001b[1;33m,\u001b[0m\u001b[1;36m89\u001b[0m\u001b[1;33m,\u001b[0m\u001b[1;36m8\u001b[0m\u001b[1;33m]\u001b[0m\u001b[1;33m\u001b[0m\u001b[1;33m\u001b[0m\u001b[0m\n\u001b[0;32m      2\u001b[0m \u001b[0mprint\u001b[0m\u001b[1;33m(\u001b[0m\u001b[0mb\u001b[0m\u001b[1;33m)\u001b[0m\u001b[1;33m\u001b[0m\u001b[1;33m\u001b[0m\u001b[0m\n\u001b[1;32m----> 3\u001b[1;33m \u001b[0mb\u001b[0m\u001b[1;33m.\u001b[0m\u001b[0mremove\u001b[0m\u001b[1;33m(\u001b[0m\u001b[1;36m3\u001b[0m\u001b[1;33m)\u001b[0m\u001b[1;33m\u001b[0m\u001b[1;33m\u001b[0m\u001b[0m\n\u001b[0m\u001b[0;32m      4\u001b[0m \u001b[0mprint\u001b[0m\u001b[1;33m(\u001b[0m\u001b[0mb\u001b[0m\u001b[1;33m)\u001b[0m\u001b[1;33m\u001b[0m\u001b[1;33m\u001b[0m\u001b[0m\n",
      "\u001b[1;31mValueError\u001b[0m: list.remove(x): x not in list"
     ]
    }
   ],
   "source": [
    "b = [5,6,78,89,8]\n",
    "print(b)\n",
    "b.remove(3)\n",
    "print(b)"
   ]
  },
  {
   "cell_type": "code",
   "execution_count": 108,
   "id": "ab60c7e1",
   "metadata": {},
   "outputs": [
    {
     "name": "stdout",
     "output_type": "stream",
     "text": [
      "[5, 6, 78, 89, 8]\n",
      "[5, 78, 89, 8]\n"
     ]
    }
   ],
   "source": [
    "print(b)\n",
    "b.remove(6)\n",
    "print(b)"
   ]
  },
  {
   "cell_type": "code",
   "execution_count": 110,
   "id": "804d0bc2",
   "metadata": {},
   "outputs": [
    {
     "name": "stdout",
     "output_type": "stream",
     "text": [
      "[5, 78, 89, 8]\n"
     ]
    },
    {
     "ename": "TypeError",
     "evalue": "remove() takes exactly one argument (0 given)",
     "output_type": "error",
     "traceback": [
      "\u001b[1;31m---------------------------------------------------------------------------\u001b[0m",
      "\u001b[1;31mTypeError\u001b[0m                                 Traceback (most recent call last)",
      "\u001b[1;32m<ipython-input-110-f3a565370823>\u001b[0m in \u001b[0;36m<module>\u001b[1;34m\u001b[0m\n\u001b[0;32m      1\u001b[0m \u001b[0mprint\u001b[0m\u001b[1;33m(\u001b[0m\u001b[0mb\u001b[0m\u001b[1;33m)\u001b[0m\u001b[1;33m\u001b[0m\u001b[1;33m\u001b[0m\u001b[0m\n\u001b[1;32m----> 2\u001b[1;33m \u001b[0mb\u001b[0m\u001b[1;33m.\u001b[0m\u001b[0mremove\u001b[0m\u001b[1;33m(\u001b[0m\u001b[1;33m)\u001b[0m\u001b[1;33m\u001b[0m\u001b[1;33m\u001b[0m\u001b[0m\n\u001b[0m\u001b[0;32m      3\u001b[0m \u001b[0mprint\u001b[0m\u001b[1;33m(\u001b[0m\u001b[0mb\u001b[0m\u001b[1;33m)\u001b[0m\u001b[1;33m\u001b[0m\u001b[1;33m\u001b[0m\u001b[0m\n",
      "\u001b[1;31mTypeError\u001b[0m: remove() takes exactly one argument (0 given)"
     ]
    }
   ],
   "source": [
    "print(b)\n",
    "b.remove()\n",
    "print(b)"
   ]
  },
  {
   "cell_type": "code",
   "execution_count": 115,
   "id": "89302fc6",
   "metadata": {},
   "outputs": [
    {
     "name": "stdout",
     "output_type": "stream",
     "text": [
      "[5, 78, 89, 8]\n"
     ]
    },
    {
     "data": {
      "text/plain": [
       "0"
      ]
     },
     "execution_count": 115,
     "metadata": {},
     "output_type": "execute_result"
    }
   ],
   "source": [
    "print(b)\n",
    "b.count(12)"
   ]
  },
  {
   "cell_type": "code",
   "execution_count": 116,
   "id": "531bb447",
   "metadata": {},
   "outputs": [
    {
     "name": "stdout",
     "output_type": "stream",
     "text": [
      "[3, 4, 5, 66, 6, 7]\n",
      "[]\n"
     ]
    }
   ],
   "source": [
    "z = [3,4,5,66,6,7]\n",
    "print(z)\n",
    "z.clear()\n",
    "print(z)"
   ]
  },
  {
   "cell_type": "code",
   "execution_count": 117,
   "id": "3b27c4e3",
   "metadata": {},
   "outputs": [
    {
     "name": "stdout",
     "output_type": "stream",
     "text": [
      "[]\n"
     ]
    },
    {
     "ename": "NameError",
     "evalue": "name 'z' is not defined",
     "output_type": "error",
     "traceback": [
      "\u001b[1;31m---------------------------------------------------------------------------\u001b[0m",
      "\u001b[1;31mNameError\u001b[0m                                 Traceback (most recent call last)",
      "\u001b[1;32m<ipython-input-117-c45f8425d381>\u001b[0m in \u001b[0;36m<module>\u001b[1;34m\u001b[0m\n\u001b[0;32m      1\u001b[0m \u001b[0mprint\u001b[0m\u001b[1;33m(\u001b[0m\u001b[0mz\u001b[0m\u001b[1;33m)\u001b[0m\u001b[1;33m\u001b[0m\u001b[1;33m\u001b[0m\u001b[0m\n\u001b[0;32m      2\u001b[0m \u001b[1;32mdel\u001b[0m \u001b[0mz\u001b[0m\u001b[1;33m\u001b[0m\u001b[1;33m\u001b[0m\u001b[0m\n\u001b[1;32m----> 3\u001b[1;33m \u001b[0mprint\u001b[0m\u001b[1;33m(\u001b[0m\u001b[0mz\u001b[0m\u001b[1;33m)\u001b[0m\u001b[1;33m\u001b[0m\u001b[1;33m\u001b[0m\u001b[0m\n\u001b[0m",
      "\u001b[1;31mNameError\u001b[0m: name 'z' is not defined"
     ]
    }
   ],
   "source": [
    "print(z)\n",
    "del z\n",
    "print(z)"
   ]
  },
  {
   "cell_type": "markdown",
   "id": "db3f3cc6",
   "metadata": {},
   "source": [
    "### Tuple:"
   ]
  },
  {
   "cell_type": "code",
   "execution_count": 118,
   "id": "b2be2792",
   "metadata": {},
   "outputs": [
    {
     "name": "stdout",
     "output_type": "stream",
     "text": [
      "(3, 4, 5, 6.9, 'ramu') <class 'tuple'>\n"
     ]
    }
   ],
   "source": [
    "g = (3,4,5,6.9,\"ramu\")\n",
    "print(g,type(g))"
   ]
  },
  {
   "cell_type": "code",
   "execution_count": 119,
   "id": "c3eb40e0",
   "metadata": {},
   "outputs": [
    {
     "name": "stdout",
     "output_type": "stream",
     "text": [
      "['__add__', '__class__', '__contains__', '__delattr__', '__dir__', '__doc__', '__eq__', '__format__', '__ge__', '__getattribute__', '__getitem__', '__getnewargs__', '__gt__', '__hash__', '__init__', '__init_subclass__', '__iter__', '__le__', '__len__', '__lt__', '__mul__', '__ne__', '__new__', '__reduce__', '__reduce_ex__', '__repr__', '__rmul__', '__setattr__', '__sizeof__', '__str__', '__subclasshook__', 'count', 'index']\n"
     ]
    }
   ],
   "source": [
    "print(dir(g))"
   ]
  },
  {
   "cell_type": "code",
   "execution_count": 120,
   "id": "cda02932",
   "metadata": {},
   "outputs": [
    {
     "name": "stdout",
     "output_type": "stream",
     "text": [
      "(3, 4, 5, 6.9, 'ramu')\n"
     ]
    }
   ],
   "source": [
    "print(g)"
   ]
  },
  {
   "cell_type": "code",
   "execution_count": 122,
   "id": "56a1f456",
   "metadata": {},
   "outputs": [
    {
     "name": "stdout",
     "output_type": "stream",
     "text": [
      "(3, 4, 5, 6.9, 'ramu')\n"
     ]
    },
    {
     "data": {
      "text/plain": [
       "1"
      ]
     },
     "execution_count": 122,
     "metadata": {},
     "output_type": "execute_result"
    }
   ],
   "source": [
    "print(g)\n",
    "g.count(4)"
   ]
  },
  {
   "cell_type": "code",
   "execution_count": 123,
   "id": "23d25f2e",
   "metadata": {},
   "outputs": [
    {
     "data": {
      "text/plain": [
       "0"
      ]
     },
     "execution_count": 123,
     "metadata": {},
     "output_type": "execute_result"
    }
   ],
   "source": [
    "g.count(56)"
   ]
  },
  {
   "cell_type": "code",
   "execution_count": 124,
   "id": "8aa8cf6d",
   "metadata": {},
   "outputs": [
    {
     "data": {
      "text/plain": [
       "1"
      ]
     },
     "execution_count": 124,
     "metadata": {},
     "output_type": "execute_result"
    }
   ],
   "source": [
    "g.index(4)"
   ]
  },
  {
   "cell_type": "code",
   "execution_count": 125,
   "id": "bcdca262",
   "metadata": {},
   "outputs": [
    {
     "ename": "ValueError",
     "evalue": "tuple.index(x): x not in tuple",
     "output_type": "error",
     "traceback": [
      "\u001b[1;31m---------------------------------------------------------------------------\u001b[0m",
      "\u001b[1;31mValueError\u001b[0m                                Traceback (most recent call last)",
      "\u001b[1;32m<ipython-input-125-509a517bfcaa>\u001b[0m in \u001b[0;36m<module>\u001b[1;34m\u001b[0m\n\u001b[1;32m----> 1\u001b[1;33m \u001b[0mg\u001b[0m\u001b[1;33m.\u001b[0m\u001b[0mindex\u001b[0m\u001b[1;33m(\u001b[0m\u001b[1;36m45\u001b[0m\u001b[1;33m)\u001b[0m\u001b[1;33m\u001b[0m\u001b[1;33m\u001b[0m\u001b[0m\n\u001b[0m",
      "\u001b[1;31mValueError\u001b[0m: tuple.index(x): x not in tuple"
     ]
    }
   ],
   "source": [
    "g.index(45)"
   ]
  },
  {
   "cell_type": "code",
   "execution_count": null,
   "id": "682d10f5",
   "metadata": {},
   "outputs": [],
   "source": [
    "4 5 6 7 8 9"
   ]
  },
  {
   "cell_type": "code",
   "execution_count": 7,
   "id": "b2dfc266",
   "metadata": {},
   "outputs": [
    {
     "name": "stdout",
     "output_type": "stream",
     "text": [
      "2 5 8 97 8 9\n",
      "[2, 5, 8, 97, 8, 9]\n"
     ]
    }
   ],
   "source": [
    "n = input().split()\n",
    "t = []\n",
    "for i in n:\n",
    "    t.append(int(i))\n",
    "print(t)"
   ]
  },
  {
   "cell_type": "code",
   "execution_count": 13,
   "id": "7b8f67f5",
   "metadata": {},
   "outputs": [
    {
     "name": "stdout",
     "output_type": "stream",
     "text": [
      "1 5 8 9\n",
      "['1', '5', '8', '9'] <class 'list'>\n",
      "[1, 5, 8, 9]\n"
     ]
    }
   ],
   "source": [
    "m = input().split()\n",
    "t = []\n",
    "print(m,type(m))\n",
    "for n in range(len(m)):\n",
    "    t.append(int(m[n]))\n",
    "print(t)"
   ]
  },
  {
   "cell_type": "code",
   "execution_count": null,
   "id": "b4b3eb56",
   "metadata": {},
   "outputs": [],
   "source": [
    "n=int"
   ]
  },
  {
   "cell_type": "code",
   "execution_count": null,
   "id": "09d9a78d",
   "metadata": {},
   "outputs": [],
   "source": []
  },
  {
   "cell_type": "code",
   "execution_count": null,
   "id": "25a46938",
   "metadata": {},
   "outputs": [],
   "source": []
  },
  {
   "cell_type": "code",
   "execution_count": null,
   "id": "502db049",
   "metadata": {},
   "outputs": [],
   "source": []
  },
  {
   "cell_type": "code",
   "execution_count": 4,
   "id": "06752756",
   "metadata": {},
   "outputs": [
    {
     "name": "stdout",
     "output_type": "stream",
     "text": [
      "12\n",
      "insert 0 5\n",
      "insert 1 10\n",
      "insert 0 6\n",
      "print\n",
      "[6, 5, 10]\n",
      "remove 6\n",
      "append 9\n",
      "append 1\n",
      "print\n",
      "[5, 10, 9, 1]\n",
      "sort\n",
      "print\n",
      "[1, 5, 9, 10]\n",
      "pop\n",
      "reverse\n"
     ]
    }
   ],
   "source": [
    "n=int(input())\n",
    "j=[]\n",
    "for k in range(n):\n",
    "    m=input().split()\n",
    "    if m[0]=='insert':\n",
    "        j.insert(int(m[1]),int(m[2]))\n",
    "    elif m[0]=='remove':\n",
    "        j.remove(int(m[1]))\n",
    "    elif m[0]=='append':\n",
    "        j.append(int(m[1]))\n",
    "    elif m[0]=='sort':\n",
    "        j.sort()\n",
    "    elif m[0]=='pop':\n",
    "        j.pop()\n",
    "    elif m[0]=='reverse':\n",
    "        j.reverse()\n",
    "    else:\n",
    "        print(j)\n",
    "        "
   ]
  },
  {
   "cell_type": "markdown",
   "id": "19f085cb",
   "metadata": {},
   "source": [
    "### Strings:\n",
    "    - It can be represented as either ' or \"\n",
    "    - It can changes the address of a string\n",
    "    - It can be type cast as str()\n",
    "    - Slicing can be done and index exist\n",
    "    - ''' ''' => multi comments\n",
    "    - #"
   ]
  },
  {
   "cell_type": "code",
   "execution_count": 5,
   "id": "b0bad649",
   "metadata": {},
   "outputs": [
    {
     "name": "stdout",
     "output_type": "stream",
     "text": [
      "rajesh\n"
     ]
    }
   ],
   "source": [
    "g = 'rajesh'\n",
    "print(g)"
   ]
  },
  {
   "cell_type": "code",
   "execution_count": 6,
   "id": "8a4d25d2",
   "metadata": {},
   "outputs": [
    {
     "name": "stdout",
     "output_type": "stream",
     "text": [
      "r\n",
      "a\n",
      "j\n",
      "e\n",
      "s\n",
      "h\n"
     ]
    }
   ],
   "source": [
    "for i in g:\n",
    "    print(i)"
   ]
  },
  {
   "cell_type": "code",
   "execution_count": 7,
   "id": "9c243c80",
   "metadata": {},
   "outputs": [
    {
     "name": "stdout",
     "output_type": "stream",
     "text": [
      "r\n",
      "a\n",
      "j\n",
      "e\n",
      "s\n",
      "h\n"
     ]
    }
   ],
   "source": [
    "for d in range(len(g)):\n",
    "    print(g[d])"
   ]
  },
  {
   "cell_type": "code",
   "execution_count": 8,
   "id": "f65af795",
   "metadata": {},
   "outputs": [
    {
     "name": "stdout",
     "output_type": "stream",
     "text": [
      "['__add__', '__class__', '__contains__', '__delattr__', '__dir__', '__doc__', '__eq__', '__format__', '__ge__', '__getattribute__', '__getitem__', '__getnewargs__', '__gt__', '__hash__', '__init__', '__init_subclass__', '__iter__', '__le__', '__len__', '__lt__', '__mod__', '__mul__', '__ne__', '__new__', '__reduce__', '__reduce_ex__', '__repr__', '__rmod__', '__rmul__', '__setattr__', '__sizeof__', '__str__', '__subclasshook__', 'capitalize', 'casefold', 'center', 'count', 'encode', 'endswith', 'expandtabs', 'find', 'format', 'format_map', 'index', 'isalnum', 'isalpha', 'isascii', 'isdecimal', 'isdigit', 'isidentifier', 'islower', 'isnumeric', 'isprintable', 'isspace', 'istitle', 'isupper', 'join', 'ljust', 'lower', 'lstrip', 'maketrans', 'partition', 'replace', 'rfind', 'rindex', 'rjust', 'rpartition', 'rsplit', 'rstrip', 'split', 'splitlines', 'startswith', 'strip', 'swapcase', 'title', 'translate', 'upper', 'zfill']\n"
     ]
    }
   ],
   "source": [
    "print(dir(g))"
   ]
  },
  {
   "cell_type": "code",
   "execution_count": 10,
   "id": "df944a0b",
   "metadata": {},
   "outputs": [
    {
     "name": "stdout",
     "output_type": "stream",
     "text": [
      "This Is Sample Program\n",
      "This is sample program\n",
      "this is sample program\n",
      "tHIS IS SAMPLE pROGRAM\n",
      "this is sample program\n",
      "THIS IS SAMPLE PROGRAM\n"
     ]
    }
   ],
   "source": [
    "h = \"This is sample Program\"\n",
    "print(h.title())\n",
    "print(h.capitalize())\n",
    "print(h.casefold())\n",
    "print(h.swapcase())\n",
    "print(h.lower())\n",
    "print(h.upper())"
   ]
  },
  {
   "cell_type": "code",
   "execution_count": 11,
   "id": "c8d95d00",
   "metadata": {},
   "outputs": [
    {
     "name": "stdout",
     "output_type": "stream",
     "text": [
      "['asda', 'ad', 'etres', 'dsf', 'esSRGSE', 'ESRG', 'edfv']\n",
      "['asda ad etres dsf esSRGSE ESRG edfv']\n"
     ]
    }
   ],
   "source": [
    "g = \"asda ad etres dsf esSRGSE ESRG edfv\"\n",
    "print(g.split())\n",
    "print(g.splitlines())"
   ]
  },
  {
   "cell_type": "code",
   "execution_count": 12,
   "id": "f4f48ce3",
   "metadata": {},
   "outputs": [
    {
     "name": "stdout",
     "output_type": "stream",
     "text": [
      "['', 'sd', 's ', 's dS DWES DFSD CA ', 'sd', ' ', ' ']\n"
     ]
    }
   ],
   "source": [
    "y =  \"asdas as dS DWES DFSD CA asda a \"\n",
    "print(y.split('a'))"
   ]
  },
  {
   "cell_type": "code",
   "execution_count": 13,
   "id": "0ac3b16d",
   "metadata": {},
   "outputs": [
    {
     "name": "stdout",
     "output_type": "stream",
     "text": [
      "['asd-adasdasd-asdadasd-scszzv-rev']\n",
      "['asd', 'adasdasd', 'asdadasd', 'scszzv', 'rev']\n"
     ]
    }
   ],
   "source": [
    "r = 'asd-adasdasd-asdadasd-scszzv-rev'\n",
    "print(r.split())\n",
    "print(r.split('-'))"
   ]
  },
  {
   "cell_type": "code",
   "execution_count": null,
   "id": "424f5309",
   "metadata": {},
   "outputs": [],
   "source": []
  }
 ],
 "metadata": {
  "kernelspec": {
   "display_name": "Python 3",
   "language": "python",
   "name": "python3"
  },
  "language_info": {
   "codemirror_mode": {
    "name": "ipython",
    "version": 3
   },
   "file_extension": ".py",
   "mimetype": "text/x-python",
   "name": "python",
   "nbconvert_exporter": "python",
   "pygments_lexer": "ipython3",
   "version": "3.7.5"
  }
 },
 "nbformat": 4,
 "nbformat_minor": 5
}
